{
 "cells": [
  {
   "cell_type": "markdown",
   "metadata": {},
   "source": [
    "# Classificando as Frutas de Acordo com as Informações Apresentadas\n",
    "\n",
    "### Neste projeto temos uma medidas e a clssificação de uma fruta, dai queremos testar três possibilidades.\n",
    "\n",
    "1. Qual modelo performa melhor?\n",
    "\n",
    "2. Diminuindo as variaveis melhora o modelo? "
   ]
  },
  {
   "cell_type": "code",
   "execution_count": 1,
   "metadata": {},
   "outputs": [],
   "source": [
    "# Importando os módulos\n",
    "import numpy as np \n",
    "import pandas as pd \n",
    "import matplotlib.pyplot as plt \n",
    "import seaborn as sns \n",
    "import plotly.express as px"
   ]
  },
  {
   "cell_type": "markdown",
   "metadata": {},
   "source": [
    "O link do dataset pode ser encontrado [aqui](https://www.kaggle.com/datasets/muratkokludataset/date-fruit-datasets)"
   ]
  },
  {
   "cell_type": "code",
   "execution_count": 2,
   "metadata": {},
   "outputs": [],
   "source": [
    "frutas = pd.read_excel('/home/gustavo/Área de Trabalho/Proj notebooks/Date_Fruit_Datasets.xlsx')"
   ]
  },
  {
   "cell_type": "code",
   "execution_count": 3,
   "metadata": {},
   "outputs": [
    {
     "name": "stdout",
     "output_type": "stream",
     "text": [
      "<class 'pandas.core.frame.DataFrame'>\n",
      "RangeIndex: 898 entries, 0 to 897\n",
      "Data columns (total 35 columns):\n",
      " #   Column         Non-Null Count  Dtype  \n",
      "---  ------         --------------  -----  \n",
      " 0   AREA           898 non-null    int64  \n",
      " 1   PERIMETER      898 non-null    float64\n",
      " 2   MAJOR_AXIS     898 non-null    float64\n",
      " 3   MINOR_AXIS     898 non-null    float64\n",
      " 4   ECCENTRICITY   898 non-null    float64\n",
      " 5   EQDIASQ        898 non-null    float64\n",
      " 6   SOLIDITY       898 non-null    float64\n",
      " 7   CONVEX_AREA    898 non-null    int64  \n",
      " 8   EXTENT         898 non-null    float64\n",
      " 9   ASPECT_RATIO   898 non-null    float64\n",
      " 10  ROUNDNESS      898 non-null    float64\n",
      " 11  COMPACTNESS    898 non-null    float64\n",
      " 12  SHAPEFACTOR_1  898 non-null    float64\n",
      " 13  SHAPEFACTOR_2  898 non-null    float64\n",
      " 14  SHAPEFACTOR_3  898 non-null    float64\n",
      " 15  SHAPEFACTOR_4  898 non-null    float64\n",
      " 16  MeanRR         898 non-null    float64\n",
      " 17  MeanRG         898 non-null    float64\n",
      " 18  MeanRB         898 non-null    float64\n",
      " 19  StdDevRR       898 non-null    float64\n",
      " 20  StdDevRG       898 non-null    float64\n",
      " 21  StdDevRB       898 non-null    float64\n",
      " 22  SkewRR         898 non-null    float64\n",
      " 23  SkewRG         898 non-null    float64\n",
      " 24  SkewRB         898 non-null    float64\n",
      " 25  KurtosisRR     898 non-null    float64\n",
      " 26  KurtosisRG     898 non-null    float64\n",
      " 27  KurtosisRB     898 non-null    float64\n",
      " 28  EntropyRR      898 non-null    int64  \n",
      " 29  EntropyRG      898 non-null    int64  \n",
      " 30  EntropyRB      898 non-null    int64  \n",
      " 31  ALLdaub4RR     898 non-null    float64\n",
      " 32  ALLdaub4RG     898 non-null    float64\n",
      " 33  ALLdaub4RB     898 non-null    float64\n",
      " 34  Class          898 non-null    object \n",
      "dtypes: float64(29), int64(5), object(1)\n",
      "memory usage: 245.7+ KB\n"
     ]
    }
   ],
   "source": [
    "frutas.info()"
   ]
  },
  {
   "cell_type": "markdown",
   "metadata": {},
   "source": [
    "Podemos ver que não temos valores nulos e só a variavel class é um objeto, os outros ou são inteiros ou float."
   ]
  },
  {
   "cell_type": "code",
   "execution_count": 4,
   "metadata": {},
   "outputs": [
    {
     "data": {
      "text/html": [
       "<div>\n",
       "<style scoped>\n",
       "    .dataframe tbody tr th:only-of-type {\n",
       "        vertical-align: middle;\n",
       "    }\n",
       "\n",
       "    .dataframe tbody tr th {\n",
       "        vertical-align: top;\n",
       "    }\n",
       "\n",
       "    .dataframe thead th {\n",
       "        text-align: right;\n",
       "    }\n",
       "</style>\n",
       "<table border=\"1\" class=\"dataframe\">\n",
       "  <thead>\n",
       "    <tr style=\"text-align: right;\">\n",
       "      <th></th>\n",
       "      <th>AREA</th>\n",
       "      <th>PERIMETER</th>\n",
       "      <th>MAJOR_AXIS</th>\n",
       "      <th>MINOR_AXIS</th>\n",
       "      <th>ECCENTRICITY</th>\n",
       "      <th>EQDIASQ</th>\n",
       "      <th>SOLIDITY</th>\n",
       "      <th>CONVEX_AREA</th>\n",
       "      <th>EXTENT</th>\n",
       "      <th>ASPECT_RATIO</th>\n",
       "      <th>...</th>\n",
       "      <th>SkewRB</th>\n",
       "      <th>KurtosisRR</th>\n",
       "      <th>KurtosisRG</th>\n",
       "      <th>KurtosisRB</th>\n",
       "      <th>EntropyRR</th>\n",
       "      <th>EntropyRG</th>\n",
       "      <th>EntropyRB</th>\n",
       "      <th>ALLdaub4RR</th>\n",
       "      <th>ALLdaub4RG</th>\n",
       "      <th>ALLdaub4RB</th>\n",
       "    </tr>\n",
       "  </thead>\n",
       "  <tbody>\n",
       "    <tr>\n",
       "      <th>count</th>\n",
       "      <td>898.000000</td>\n",
       "      <td>898.000000</td>\n",
       "      <td>898.000000</td>\n",
       "      <td>898.000000</td>\n",
       "      <td>898.000000</td>\n",
       "      <td>898.000000</td>\n",
       "      <td>898.000000</td>\n",
       "      <td>898.000000</td>\n",
       "      <td>898.000000</td>\n",
       "      <td>898.000000</td>\n",
       "      <td>...</td>\n",
       "      <td>898.000000</td>\n",
       "      <td>898.000000</td>\n",
       "      <td>898.000000</td>\n",
       "      <td>898.000000</td>\n",
       "      <td>8.980000e+02</td>\n",
       "      <td>8.980000e+02</td>\n",
       "      <td>8.980000e+02</td>\n",
       "      <td>898.000000</td>\n",
       "      <td>898.000000</td>\n",
       "      <td>898.000000</td>\n",
       "    </tr>\n",
       "    <tr>\n",
       "      <th>mean</th>\n",
       "      <td>298295.207127</td>\n",
       "      <td>2057.660953</td>\n",
       "      <td>750.811994</td>\n",
       "      <td>495.872785</td>\n",
       "      <td>0.737468</td>\n",
       "      <td>604.577938</td>\n",
       "      <td>0.981840</td>\n",
       "      <td>303845.592428</td>\n",
       "      <td>0.736267</td>\n",
       "      <td>2.131102</td>\n",
       "      <td>...</td>\n",
       "      <td>0.250518</td>\n",
       "      <td>4.247845</td>\n",
       "      <td>5.110894</td>\n",
       "      <td>3.780928</td>\n",
       "      <td>-3.185021e+10</td>\n",
       "      <td>-2.901860e+10</td>\n",
       "      <td>-2.771876e+10</td>\n",
       "      <td>50.082888</td>\n",
       "      <td>48.805681</td>\n",
       "      <td>48.098393</td>\n",
       "    </tr>\n",
       "    <tr>\n",
       "      <th>std</th>\n",
       "      <td>107245.205337</td>\n",
       "      <td>410.012459</td>\n",
       "      <td>144.059326</td>\n",
       "      <td>114.268917</td>\n",
       "      <td>0.088727</td>\n",
       "      <td>119.593888</td>\n",
       "      <td>0.018157</td>\n",
       "      <td>108815.656947</td>\n",
       "      <td>0.053745</td>\n",
       "      <td>17.820778</td>\n",
       "      <td>...</td>\n",
       "      <td>0.632918</td>\n",
       "      <td>2.892357</td>\n",
       "      <td>3.745463</td>\n",
       "      <td>2.049831</td>\n",
       "      <td>2.037241e+10</td>\n",
       "      <td>1.712952e+10</td>\n",
       "      <td>1.484137e+10</td>\n",
       "      <td>16.063125</td>\n",
       "      <td>14.125911</td>\n",
       "      <td>10.813862</td>\n",
       "    </tr>\n",
       "    <tr>\n",
       "      <th>min</th>\n",
       "      <td>1987.000000</td>\n",
       "      <td>911.828000</td>\n",
       "      <td>336.722700</td>\n",
       "      <td>2.283200</td>\n",
       "      <td>0.344800</td>\n",
       "      <td>50.298400</td>\n",
       "      <td>0.836600</td>\n",
       "      <td>2257.000000</td>\n",
       "      <td>0.512300</td>\n",
       "      <td>1.065300</td>\n",
       "      <td>...</td>\n",
       "      <td>-1.029100</td>\n",
       "      <td>1.708200</td>\n",
       "      <td>1.607600</td>\n",
       "      <td>1.767200</td>\n",
       "      <td>-1.091224e+11</td>\n",
       "      <td>-9.261697e+10</td>\n",
       "      <td>-8.747177e+10</td>\n",
       "      <td>15.191100</td>\n",
       "      <td>20.524700</td>\n",
       "      <td>22.130000</td>\n",
       "    </tr>\n",
       "    <tr>\n",
       "      <th>25%</th>\n",
       "      <td>206948.000000</td>\n",
       "      <td>1726.091500</td>\n",
       "      <td>641.068650</td>\n",
       "      <td>404.684375</td>\n",
       "      <td>0.685625</td>\n",
       "      <td>513.317075</td>\n",
       "      <td>0.978825</td>\n",
       "      <td>210022.750000</td>\n",
       "      <td>0.705875</td>\n",
       "      <td>1.373725</td>\n",
       "      <td>...</td>\n",
       "      <td>-0.196950</td>\n",
       "      <td>2.536625</td>\n",
       "      <td>2.508850</td>\n",
       "      <td>2.577275</td>\n",
       "      <td>-4.429444e+10</td>\n",
       "      <td>-3.894638e+10</td>\n",
       "      <td>-3.564534e+10</td>\n",
       "      <td>38.224425</td>\n",
       "      <td>38.654525</td>\n",
       "      <td>39.250725</td>\n",
       "    </tr>\n",
       "    <tr>\n",
       "      <th>50%</th>\n",
       "      <td>319833.000000</td>\n",
       "      <td>2196.345450</td>\n",
       "      <td>791.363400</td>\n",
       "      <td>495.054850</td>\n",
       "      <td>0.754700</td>\n",
       "      <td>638.140950</td>\n",
       "      <td>0.987300</td>\n",
       "      <td>327207.000000</td>\n",
       "      <td>0.746950</td>\n",
       "      <td>1.524150</td>\n",
       "      <td>...</td>\n",
       "      <td>0.135550</td>\n",
       "      <td>3.069800</td>\n",
       "      <td>3.127800</td>\n",
       "      <td>3.080700</td>\n",
       "      <td>-2.826156e+10</td>\n",
       "      <td>-2.620990e+10</td>\n",
       "      <td>-2.392928e+10</td>\n",
       "      <td>53.841300</td>\n",
       "      <td>50.337800</td>\n",
       "      <td>49.614100</td>\n",
       "    </tr>\n",
       "    <tr>\n",
       "      <th>75%</th>\n",
       "      <td>382573.000000</td>\n",
       "      <td>2389.716575</td>\n",
       "      <td>858.633750</td>\n",
       "      <td>589.031700</td>\n",
       "      <td>0.802150</td>\n",
       "      <td>697.930525</td>\n",
       "      <td>0.991800</td>\n",
       "      <td>388804.000000</td>\n",
       "      <td>0.775850</td>\n",
       "      <td>1.674750</td>\n",
       "      <td>...</td>\n",
       "      <td>0.593950</td>\n",
       "      <td>4.449850</td>\n",
       "      <td>7.320400</td>\n",
       "      <td>4.283125</td>\n",
       "      <td>-1.460482e+10</td>\n",
       "      <td>-1.433105e+10</td>\n",
       "      <td>-1.660367e+10</td>\n",
       "      <td>63.063350</td>\n",
       "      <td>59.573600</td>\n",
       "      <td>56.666675</td>\n",
       "    </tr>\n",
       "    <tr>\n",
       "      <th>max</th>\n",
       "      <td>546063.000000</td>\n",
       "      <td>2811.997100</td>\n",
       "      <td>1222.723000</td>\n",
       "      <td>766.453600</td>\n",
       "      <td>1.000000</td>\n",
       "      <td>833.827900</td>\n",
       "      <td>0.997400</td>\n",
       "      <td>552598.000000</td>\n",
       "      <td>0.856200</td>\n",
       "      <td>535.525700</td>\n",
       "      <td>...</td>\n",
       "      <td>3.092300</td>\n",
       "      <td>26.171100</td>\n",
       "      <td>26.736700</td>\n",
       "      <td>32.249500</td>\n",
       "      <td>-1.627316e+08</td>\n",
       "      <td>-5.627727e+08</td>\n",
       "      <td>-4.370435e+08</td>\n",
       "      <td>79.828900</td>\n",
       "      <td>83.064900</td>\n",
       "      <td>74.104600</td>\n",
       "    </tr>\n",
       "  </tbody>\n",
       "</table>\n",
       "<p>8 rows × 34 columns</p>\n",
       "</div>"
      ],
      "text/plain": [
       "                AREA    PERIMETER   MAJOR_AXIS  MINOR_AXIS  ECCENTRICITY  \\\n",
       "count     898.000000   898.000000   898.000000  898.000000    898.000000   \n",
       "mean   298295.207127  2057.660953   750.811994  495.872785      0.737468   \n",
       "std    107245.205337   410.012459   144.059326  114.268917      0.088727   \n",
       "min      1987.000000   911.828000   336.722700    2.283200      0.344800   \n",
       "25%    206948.000000  1726.091500   641.068650  404.684375      0.685625   \n",
       "50%    319833.000000  2196.345450   791.363400  495.054850      0.754700   \n",
       "75%    382573.000000  2389.716575   858.633750  589.031700      0.802150   \n",
       "max    546063.000000  2811.997100  1222.723000  766.453600      1.000000   \n",
       "\n",
       "          EQDIASQ    SOLIDITY    CONVEX_AREA      EXTENT  ASPECT_RATIO  ...  \\\n",
       "count  898.000000  898.000000     898.000000  898.000000    898.000000  ...   \n",
       "mean   604.577938    0.981840  303845.592428    0.736267      2.131102  ...   \n",
       "std    119.593888    0.018157  108815.656947    0.053745     17.820778  ...   \n",
       "min     50.298400    0.836600    2257.000000    0.512300      1.065300  ...   \n",
       "25%    513.317075    0.978825  210022.750000    0.705875      1.373725  ...   \n",
       "50%    638.140950    0.987300  327207.000000    0.746950      1.524150  ...   \n",
       "75%    697.930525    0.991800  388804.000000    0.775850      1.674750  ...   \n",
       "max    833.827900    0.997400  552598.000000    0.856200    535.525700  ...   \n",
       "\n",
       "           SkewRB  KurtosisRR  KurtosisRG  KurtosisRB     EntropyRR  \\\n",
       "count  898.000000  898.000000  898.000000  898.000000  8.980000e+02   \n",
       "mean     0.250518    4.247845    5.110894    3.780928 -3.185021e+10   \n",
       "std      0.632918    2.892357    3.745463    2.049831  2.037241e+10   \n",
       "min     -1.029100    1.708200    1.607600    1.767200 -1.091224e+11   \n",
       "25%     -0.196950    2.536625    2.508850    2.577275 -4.429444e+10   \n",
       "50%      0.135550    3.069800    3.127800    3.080700 -2.826156e+10   \n",
       "75%      0.593950    4.449850    7.320400    4.283125 -1.460482e+10   \n",
       "max      3.092300   26.171100   26.736700   32.249500 -1.627316e+08   \n",
       "\n",
       "          EntropyRG     EntropyRB  ALLdaub4RR  ALLdaub4RG  ALLdaub4RB  \n",
       "count  8.980000e+02  8.980000e+02  898.000000  898.000000  898.000000  \n",
       "mean  -2.901860e+10 -2.771876e+10   50.082888   48.805681   48.098393  \n",
       "std    1.712952e+10  1.484137e+10   16.063125   14.125911   10.813862  \n",
       "min   -9.261697e+10 -8.747177e+10   15.191100   20.524700   22.130000  \n",
       "25%   -3.894638e+10 -3.564534e+10   38.224425   38.654525   39.250725  \n",
       "50%   -2.620990e+10 -2.392928e+10   53.841300   50.337800   49.614100  \n",
       "75%   -1.433105e+10 -1.660367e+10   63.063350   59.573600   56.666675  \n",
       "max   -5.627727e+08 -4.370435e+08   79.828900   83.064900   74.104600  \n",
       "\n",
       "[8 rows x 34 columns]"
      ]
     },
     "execution_count": 4,
     "metadata": {},
     "output_type": "execute_result"
    }
   ],
   "source": [
    "frutas.describe()"
   ]
  },
  {
   "cell_type": "markdown",
   "metadata": {},
   "source": [
    "Podemos ver que os valores entre as variaveis não tem o mesmo peso, então será necessário normalizar."
   ]
  },
  {
   "cell_type": "code",
   "execution_count": 5,
   "metadata": {},
   "outputs": [
    {
     "data": {
      "text/plain": [
       "Text(0, 0.5, 'Quantidade')"
      ]
     },
     "execution_count": 5,
     "metadata": {},
     "output_type": "execute_result"
    },
    {
     "data": {
      "image/png": "[encoded data removed]",
      "text/plain": [
       "<Figure size 720x360 with 1 Axes>"
      ]
     },
     "metadata": {
      "needs_background": "light"
     },
     "output_type": "display_data"
    }
   ],
   "source": [
    "#Criando um gráfico de barras\n",
    "nomes_frutas = ['DOKOL','SAFAVI','ROTANA','DEGLET','SOGAY','IRAQI','BERHI']\n",
    "plt.figure(figsize=(10,5))\n",
    "plt.title('Quantidade de Frutas Presentes',fontsize=14)\n",
    "plt.bar(nomes_frutas,frutas['Class'].value_counts(),color='cyan')\n",
    "plt.xlabel('Frutas')\n",
    "plt.ylabel('Quantidade')"
   ]
  },
  {
   "cell_type": "markdown",
   "metadata": {},
   "source": [
    "Acredito que vai se ter que dividir os dados para que o mesmo não fique enviesado, separ um com as três frutas e o outro com o resto das frutas."
   ]
  },
  {
   "cell_type": "markdown",
   "metadata": {},
   "source": [
    "Fazer o estudo dos outliers"
   ]
  },
  {
   "cell_type": "code",
   "execution_count": 6,
   "metadata": {},
   "outputs": [
    {
     "data": {
      "text/plain": [
       "<AxesSubplot:xlabel='Class', ylabel='AREA'>"
      ]
     },
     "execution_count": 6,
     "metadata": {},
     "output_type": "execute_result"
    },
    {
     "data": {
      "image/png": "[encoded data removed]",
      "text/plain": [
       "<Figure size 1080x360 with 1 Axes>"
      ]
     },
     "metadata": {
      "needs_background": "light"
     },
     "output_type": "display_data"
    }
   ],
   "source": [
    "plt.figure(figsize=(15,5))\n",
    "sns.boxplot(x='Class',y='AREA',data=frutas)"
   ]
  },
  {
   "cell_type": "code",
   "execution_count": 7,
   "metadata": {},
   "outputs": [
    {
     "data": {
      "text/plain": [
       "<AxesSubplot:xlabel='Class', ylabel='PERIMETER'>"
      ]
     },
     "execution_count": 7,
     "metadata": {},
     "output_type": "execute_result"
    },
    {
     "data": {
      "image/png": "[encoded data removed]",
      "text/plain": [
       "<Figure size 1080x360 with 1 Axes>"
      ]
     },
     "metadata": {
      "needs_background": "light"
     },
     "output_type": "display_data"
    }
   ],
   "source": [
    "plt.figure(figsize=(15,5))\n",
    "sns.boxplot(x='Class',y='PERIMETER',data=frutas)"
   ]
  },
  {
   "cell_type": "code",
   "execution_count": 8,
   "metadata": {},
   "outputs": [
    {
     "data": {
      "text/plain": [
       "DOKOL     204\n",
       "SAFAVI    199\n",
       "ROTANA    166\n",
       "DEGLET     98\n",
       "SOGAY      94\n",
       "IRAQI      72\n",
       "BERHI      65\n",
       "Name: Class, dtype: int64"
      ]
     },
     "execution_count": 8,
     "metadata": {},
     "output_type": "execute_result"
    }
   ],
   "source": [
    "frutas['Class'].value_counts()"
   ]
  },
  {
   "cell_type": "code",
   "execution_count": 9,
   "metadata": {},
   "outputs": [
    {
     "name": "stderr",
     "output_type": "stream",
     "text": [
      "/tmp/ipykernel_16232/293768214.py:1: FutureWarning: The frame.append method is deprecated and will be removed from pandas in a future version. Use pandas.concat instead.\n",
      "  frutas_1 = frutas[frutas['Class']=='DOKOL'].append(frutas[frutas['Class']=='SAFAVI'].append(frutas[frutas['Class']=='ROTANA']))\n",
      "/tmp/ipykernel_16232/293768214.py:1: FutureWarning: The frame.append method is deprecated and will be removed from pandas in a future version. Use pandas.concat instead.\n",
      "  frutas_1 = frutas[frutas['Class']=='DOKOL'].append(frutas[frutas['Class']=='SAFAVI'].append(frutas[frutas['Class']=='ROTANA']))\n"
     ]
    }
   ],
   "source": [
    "frutas_1 = frutas[frutas['Class']=='DOKOL'].append(frutas[frutas['Class']=='SAFAVI'].append(frutas[frutas['Class']=='ROTANA']))"
   ]
  },
  {
   "cell_type": "code",
   "execution_count": 10,
   "metadata": {},
   "outputs": [],
   "source": [
    "frutas_1.reset_index(inplace=True)\n",
    "frutas_1.drop(['index'],axis=1,inplace=True)\n"
   ]
  },
  {
   "cell_type": "code",
   "execution_count": 11,
   "metadata": {},
   "outputs": [
    {
     "name": "stderr",
     "output_type": "stream",
     "text": [
      "/tmp/ipykernel_16232/184989641.py:2: FutureWarning: The frame.append method is deprecated and will be removed from pandas in a future version. Use pandas.concat instead.\n",
      "  frutas[frutas['Class']=='SOGAY'].append(frutas[frutas['Class']=='IRAQI'].append(frutas[frutas['Class']=='BERHI']))\n",
      "/tmp/ipykernel_16232/184989641.py:2: FutureWarning: The frame.append method is deprecated and will be removed from pandas in a future version. Use pandas.concat instead.\n",
      "  frutas[frutas['Class']=='SOGAY'].append(frutas[frutas['Class']=='IRAQI'].append(frutas[frutas['Class']=='BERHI']))\n",
      "/tmp/ipykernel_16232/184989641.py:1: FutureWarning: The frame.append method is deprecated and will be removed from pandas in a future version. Use pandas.concat instead.\n",
      "  frutas_2 = frutas[frutas['Class']=='DEGLET'].append(\n"
     ]
    }
   ],
   "source": [
    "frutas_2 = frutas[frutas['Class']=='DEGLET'].append(\n",
    "    frutas[frutas['Class']=='SOGAY'].append(frutas[frutas['Class']=='IRAQI'].append(frutas[frutas['Class']=='BERHI']))\n",
    ")"
   ]
  },
  {
   "cell_type": "code",
   "execution_count": 12,
   "metadata": {},
   "outputs": [],
   "source": [
    "frutas_2.reset_index(inplace=True)\n",
    "frutas_2.drop(['index'],axis=1,inplace=True)\n"
   ]
  },
  {
   "cell_type": "markdown",
   "metadata": {},
   "source": [
    "Agora vamos verificas quais dos modelos performa melhor: random forest, knn e naive bayes."
   ]
  },
  {
   "cell_type": "code",
   "execution_count": 13,
   "metadata": {},
   "outputs": [],
   "source": [
    "x = frutas_1.drop(['Class'],axis=1).values\n",
    "y = frutas_1.Class.values"
   ]
  },
  {
   "cell_type": "code",
   "execution_count": 14,
   "metadata": {},
   "outputs": [],
   "source": [
    "# Importando os módulos do sklearn\n",
    "from sklearn.metrics import confusion_matrix, classification_report\n",
    "from sklearn.preprocessing import StandardScaler\n",
    "from sklearn.model_selection import train_test_split \n",
    "from sklearn.ensemble import RandomForestClassifier\n",
    "from sklearn.naive_bayes import GaussianNB \n",
    "from sklearn.neighbors import KNeighborsClassifier"
   ]
  },
  {
   "cell_type": "markdown",
   "metadata": {},
   "source": [
    "Classificando por random forest"
   ]
  },
  {
   "cell_type": "code",
   "execution_count": 15,
   "metadata": {},
   "outputs": [],
   "source": [
    "x_std = StandardScaler().fit_transform(x)"
   ]
  },
  {
   "cell_type": "code",
   "execution_count": 16,
   "metadata": {},
   "outputs": [],
   "source": [
    "x_treino, x_teste, y_treino, y_teste = train_test_split(x_std,y,test_size=0.4,random_state=11)"
   ]
  },
  {
   "cell_type": "code",
   "execution_count": 17,
   "metadata": {},
   "outputs": [],
   "source": [
    "random_for = RandomForestClassifier()\n",
    "random_for.fit(x_treino,y_treino)\n",
    "y_pred = random_for.predict(x_teste)"
   ]
  },
  {
   "cell_type": "code",
   "execution_count": 18,
   "metadata": {},
   "outputs": [
    {
     "data": {
      "text/plain": [
       "array([[82,  0,  0],\n",
       "       [ 0, 61,  0],\n",
       "       [ 1,  0, 84]])"
      ]
     },
     "execution_count": 18,
     "metadata": {},
     "output_type": "execute_result"
    }
   ],
   "source": [
    "confusion_matrix(y_teste,y_pred)"
   ]
  },
  {
   "cell_type": "code",
   "execution_count": 19,
   "metadata": {},
   "outputs": [
    {
     "name": "stdout",
     "output_type": "stream",
     "text": [
      "              precision    recall  f1-score   support\n",
      "\n",
      "       DOKOL       0.99      1.00      0.99        82\n",
      "      ROTANA       1.00      1.00      1.00        61\n",
      "      SAFAVI       1.00      0.99      0.99        85\n",
      "\n",
      "    accuracy                           1.00       228\n",
      "   macro avg       1.00      1.00      1.00       228\n",
      "weighted avg       1.00      1.00      1.00       228\n",
      "\n"
     ]
    }
   ],
   "source": [
    "print(classification_report(y_teste,y_pred))"
   ]
  },
  {
   "cell_type": "code",
   "execution_count": 20,
   "metadata": {},
   "outputs": [],
   "source": [
    "naive_ba = GaussianNB()\n",
    "naive_ba.fit(x_treino,y_treino)\n",
    "y_pred_bay = naive_ba.predict(x_teste)"
   ]
  },
  {
   "cell_type": "code",
   "execution_count": 21,
   "metadata": {},
   "outputs": [
    {
     "data": {
      "text/plain": [
       "array([[82,  0,  0],\n",
       "       [ 0, 61,  0],\n",
       "       [ 0,  0, 85]])"
      ]
     },
     "execution_count": 21,
     "metadata": {},
     "output_type": "execute_result"
    }
   ],
   "source": [
    "confusion_matrix(y_teste,y_pred_bay)"
   ]
  },
  {
   "cell_type": "code",
   "execution_count": 22,
   "metadata": {},
   "outputs": [
    {
     "name": "stdout",
     "output_type": "stream",
     "text": [
      "              precision    recall  f1-score   support\n",
      "\n",
      "       DOKOL       1.00      1.00      1.00        82\n",
      "      ROTANA       1.00      1.00      1.00        61\n",
      "      SAFAVI       1.00      1.00      1.00        85\n",
      "\n",
      "    accuracy                           1.00       228\n",
      "   macro avg       1.00      1.00      1.00       228\n",
      "weighted avg       1.00      1.00      1.00       228\n",
      "\n"
     ]
    }
   ],
   "source": [
    "print(classification_report(y_teste,y_pred_bay))"
   ]
  },
  {
   "cell_type": "code",
   "execution_count": 23,
   "metadata": {},
   "outputs": [],
   "source": [
    "knn = KNeighborsClassifier()\n",
    "knn.fit(x_treino,y_treino)\n",
    "y_pred_knn = knn.predict(x_teste)"
   ]
  },
  {
   "cell_type": "code",
   "execution_count": 24,
   "metadata": {},
   "outputs": [
    {
     "data": {
      "text/plain": [
       "array([[81,  1,  0],\n",
       "       [ 0, 61,  0],\n",
       "       [ 0,  0, 85]])"
      ]
     },
     "execution_count": 24,
     "metadata": {},
     "output_type": "execute_result"
    }
   ],
   "source": [
    "confusion_matrix(y_teste,y_pred_knn)"
   ]
  },
  {
   "cell_type": "code",
   "execution_count": 25,
   "metadata": {},
   "outputs": [
    {
     "name": "stdout",
     "output_type": "stream",
     "text": [
      "              precision    recall  f1-score   support\n",
      "\n",
      "       DOKOL       1.00      0.99      0.99        82\n",
      "      ROTANA       0.98      1.00      0.99        61\n",
      "      SAFAVI       1.00      1.00      1.00        85\n",
      "\n",
      "    accuracy                           1.00       228\n",
      "   macro avg       0.99      1.00      1.00       228\n",
      "weighted avg       1.00      1.00      1.00       228\n",
      "\n"
     ]
    }
   ],
   "source": [
    "print(classification_report(y_teste,y_pred_knn))"
   ]
  },
  {
   "cell_type": "code",
   "execution_count": 26,
   "metadata": {},
   "outputs": [
    {
     "name": "stdout",
     "output_type": "stream",
     "text": [
      "Métricas do Modelo Usando Random Forest\n",
      "              precision    recall  f1-score   support\n",
      "\n",
      "       DOKOL       0.99      1.00      0.99        82\n",
      "      ROTANA       1.00      1.00      1.00        61\n",
      "      SAFAVI       1.00      0.99      0.99        85\n",
      "\n",
      "    accuracy                           1.00       228\n",
      "   macro avg       1.00      1.00      1.00       228\n",
      "weighted avg       1.00      1.00      1.00       228\n",
      "\n",
      "------------------------------\n",
      "Métricas do Modelo Usando Naive Bayes\n",
      "              precision    recall  f1-score   support\n",
      "\n",
      "       DOKOL       1.00      1.00      1.00        82\n",
      "      ROTANA       1.00      1.00      1.00        61\n",
      "      SAFAVI       1.00      1.00      1.00        85\n",
      "\n",
      "    accuracy                           1.00       228\n",
      "   macro avg       1.00      1.00      1.00       228\n",
      "weighted avg       1.00      1.00      1.00       228\n",
      "\n",
      "------------------------------\n",
      "Métricas do Modelo Usando KNN\n",
      "              precision    recall  f1-score   support\n",
      "\n",
      "       DOKOL       1.00      0.99      0.99        82\n",
      "      ROTANA       0.98      1.00      0.99        61\n",
      "      SAFAVI       1.00      1.00      1.00        85\n",
      "\n",
      "    accuracy                           1.00       228\n",
      "   macro avg       0.99      1.00      1.00       228\n",
      "weighted avg       1.00      1.00      1.00       228\n",
      "\n"
     ]
    }
   ],
   "source": [
    "print('Métricas do Modelo Usando Random Forest')\n",
    "print(classification_report(y_teste,y_pred))\n",
    "print('-'*30)\n",
    "print('Métricas do Modelo Usando Naive Bayes')\n",
    "print(classification_report(y_teste,y_pred_bay))\n",
    "print('-'*30)\n",
    "print('Métricas do Modelo Usando KNN')\n",
    "print(classification_report(y_teste,y_pred_knn))"
   ]
  },
  {
   "cell_type": "markdown",
   "metadata": {},
   "source": [
    "Olhando para o dataframe fruta 2"
   ]
  },
  {
   "cell_type": "code",
   "execution_count": 27,
   "metadata": {},
   "outputs": [
    {
     "data": {
      "text/html": [
       "<div>\n",
       "<style scoped>\n",
       "    .dataframe tbody tr th:only-of-type {\n",
       "        vertical-align: middle;\n",
       "    }\n",
       "\n",
       "    .dataframe tbody tr th {\n",
       "        vertical-align: top;\n",
       "    }\n",
       "\n",
       "    .dataframe thead th {\n",
       "        text-align: right;\n",
       "    }\n",
       "</style>\n",
       "<table border=\"1\" class=\"dataframe\">\n",
       "  <thead>\n",
       "    <tr style=\"text-align: right;\">\n",
       "      <th></th>\n",
       "      <th>AREA</th>\n",
       "      <th>PERIMETER</th>\n",
       "      <th>MAJOR_AXIS</th>\n",
       "      <th>MINOR_AXIS</th>\n",
       "      <th>ECCENTRICITY</th>\n",
       "      <th>EQDIASQ</th>\n",
       "      <th>SOLIDITY</th>\n",
       "      <th>CONVEX_AREA</th>\n",
       "      <th>EXTENT</th>\n",
       "      <th>ASPECT_RATIO</th>\n",
       "      <th>...</th>\n",
       "      <th>KurtosisRR</th>\n",
       "      <th>KurtosisRG</th>\n",
       "      <th>KurtosisRB</th>\n",
       "      <th>EntropyRR</th>\n",
       "      <th>EntropyRG</th>\n",
       "      <th>EntropyRB</th>\n",
       "      <th>ALLdaub4RR</th>\n",
       "      <th>ALLdaub4RG</th>\n",
       "      <th>ALLdaub4RB</th>\n",
       "      <th>Class</th>\n",
       "    </tr>\n",
       "  </thead>\n",
       "  <tbody>\n",
       "    <tr>\n",
       "      <th>0</th>\n",
       "      <td>230122</td>\n",
       "      <td>1804.3540</td>\n",
       "      <td>649.0608</td>\n",
       "      <td>454.5320</td>\n",
       "      <td>0.7139</td>\n",
       "      <td>541.2952</td>\n",
       "      <td>0.9883</td>\n",
       "      <td>232846</td>\n",
       "      <td>0.8192</td>\n",
       "      <td>1.4280</td>\n",
       "      <td>...</td>\n",
       "      <td>3.8148</td>\n",
       "      <td>2.9127</td>\n",
       "      <td>3.3667</td>\n",
       "      <td>-41959481344</td>\n",
       "      <td>-37230223360</td>\n",
       "      <td>-36367020032</td>\n",
       "      <td>66.1163</td>\n",
       "      <td>63.2356</td>\n",
       "      <td>62.4892</td>\n",
       "      <td>DEGLET</td>\n",
       "    </tr>\n",
       "    <tr>\n",
       "      <th>1</th>\n",
       "      <td>231946</td>\n",
       "      <td>1800.8101</td>\n",
       "      <td>678.9835</td>\n",
       "      <td>436.4881</td>\n",
       "      <td>0.7660</td>\n",
       "      <td>543.4361</td>\n",
       "      <td>0.9922</td>\n",
       "      <td>233763</td>\n",
       "      <td>0.7924</td>\n",
       "      <td>1.5556</td>\n",
       "      <td>...</td>\n",
       "      <td>3.1537</td>\n",
       "      <td>3.5782</td>\n",
       "      <td>3.2341</td>\n",
       "      <td>-25391267840</td>\n",
       "      <td>-23603490816</td>\n",
       "      <td>-28687542272</td>\n",
       "      <td>52.4342</td>\n",
       "      <td>51.0893</td>\n",
       "      <td>55.8778</td>\n",
       "      <td>DEGLET</td>\n",
       "    </tr>\n",
       "    <tr>\n",
       "      <th>2</th>\n",
       "      <td>218006</td>\n",
       "      <td>1754.2820</td>\n",
       "      <td>671.6726</td>\n",
       "      <td>414.5850</td>\n",
       "      <td>0.7868</td>\n",
       "      <td>526.8528</td>\n",
       "      <td>0.9930</td>\n",
       "      <td>219532</td>\n",
       "      <td>0.8089</td>\n",
       "      <td>1.6201</td>\n",
       "      <td>...</td>\n",
       "      <td>2.0128</td>\n",
       "      <td>2.3344</td>\n",
       "      <td>4.0136</td>\n",
       "      <td>-27197134848</td>\n",
       "      <td>-21465534464</td>\n",
       "      <td>-22162524160</td>\n",
       "      <td>54.3825</td>\n",
       "      <td>49.5349</td>\n",
       "      <td>51.3752</td>\n",
       "      <td>DEGLET</td>\n",
       "    </tr>\n",
       "    <tr>\n",
       "      <th>3</th>\n",
       "      <td>272074</td>\n",
       "      <td>2031.7810</td>\n",
       "      <td>778.5798</td>\n",
       "      <td>446.9384</td>\n",
       "      <td>0.8188</td>\n",
       "      <td>588.5706</td>\n",
       "      <td>0.9823</td>\n",
       "      <td>276985</td>\n",
       "      <td>0.8072</td>\n",
       "      <td>1.7420</td>\n",
       "      <td>...</td>\n",
       "      <td>3.0403</td>\n",
       "      <td>2.5393</td>\n",
       "      <td>2.5903</td>\n",
       "      <td>-46827319296</td>\n",
       "      <td>-45142360064</td>\n",
       "      <td>-33304205312</td>\n",
       "      <td>64.1701</td>\n",
       "      <td>62.9819</td>\n",
       "      <td>54.2980</td>\n",
       "      <td>DEGLET</td>\n",
       "    </tr>\n",
       "    <tr>\n",
       "      <th>4</th>\n",
       "      <td>222790</td>\n",
       "      <td>1766.3240</td>\n",
       "      <td>651.6551</td>\n",
       "      <td>436.6493</td>\n",
       "      <td>0.7423</td>\n",
       "      <td>532.6021</td>\n",
       "      <td>0.9932</td>\n",
       "      <td>224312</td>\n",
       "      <td>0.7893</td>\n",
       "      <td>1.4924</td>\n",
       "      <td>...</td>\n",
       "      <td>2.2621</td>\n",
       "      <td>2.1012</td>\n",
       "      <td>2.3364</td>\n",
       "      <td>-35503251456</td>\n",
       "      <td>-32167600128</td>\n",
       "      <td>-28105680896</td>\n",
       "      <td>60.8351</td>\n",
       "      <td>58.4294</td>\n",
       "      <td>55.3596</td>\n",
       "      <td>DEGLET</td>\n",
       "    </tr>\n",
       "  </tbody>\n",
       "</table>\n",
       "<p>5 rows × 35 columns</p>\n",
       "</div>"
      ],
      "text/plain": [
       "     AREA  PERIMETER  MAJOR_AXIS  MINOR_AXIS  ECCENTRICITY   EQDIASQ  \\\n",
       "0  230122  1804.3540    649.0608    454.5320        0.7139  541.2952   \n",
       "1  231946  1800.8101    678.9835    436.4881        0.7660  543.4361   \n",
       "2  218006  1754.2820    671.6726    414.5850        0.7868  526.8528   \n",
       "3  272074  2031.7810    778.5798    446.9384        0.8188  588.5706   \n",
       "4  222790  1766.3240    651.6551    436.6493        0.7423  532.6021   \n",
       "\n",
       "   SOLIDITY  CONVEX_AREA  EXTENT  ASPECT_RATIO  ...  KurtosisRR  KurtosisRG  \\\n",
       "0    0.9883       232846  0.8192        1.4280  ...      3.8148      2.9127   \n",
       "1    0.9922       233763  0.7924        1.5556  ...      3.1537      3.5782   \n",
       "2    0.9930       219532  0.8089        1.6201  ...      2.0128      2.3344   \n",
       "3    0.9823       276985  0.8072        1.7420  ...      3.0403      2.5393   \n",
       "4    0.9932       224312  0.7893        1.4924  ...      2.2621      2.1012   \n",
       "\n",
       "   KurtosisRB    EntropyRR    EntropyRG    EntropyRB  ALLdaub4RR  ALLdaub4RG  \\\n",
       "0      3.3667 -41959481344 -37230223360 -36367020032     66.1163     63.2356   \n",
       "1      3.2341 -25391267840 -23603490816 -28687542272     52.4342     51.0893   \n",
       "2      4.0136 -27197134848 -21465534464 -22162524160     54.3825     49.5349   \n",
       "3      2.5903 -46827319296 -45142360064 -33304205312     64.1701     62.9819   \n",
       "4      2.3364 -35503251456 -32167600128 -28105680896     60.8351     58.4294   \n",
       "\n",
       "   ALLdaub4RB   Class  \n",
       "0     62.4892  DEGLET  \n",
       "1     55.8778  DEGLET  \n",
       "2     51.3752  DEGLET  \n",
       "3     54.2980  DEGLET  \n",
       "4     55.3596  DEGLET  \n",
       "\n",
       "[5 rows x 35 columns]"
      ]
     },
     "execution_count": 27,
     "metadata": {},
     "output_type": "execute_result"
    }
   ],
   "source": [
    "frutas_2.head()"
   ]
  },
  {
   "cell_type": "code",
   "execution_count": 28,
   "metadata": {},
   "outputs": [
    {
     "data": {
      "text/plain": [
       "(329, 35)"
      ]
     },
     "execution_count": 28,
     "metadata": {},
     "output_type": "execute_result"
    }
   ],
   "source": [
    "frutas_2.shape"
   ]
  },
  {
   "cell_type": "code",
   "execution_count": 29,
   "metadata": {},
   "outputs": [],
   "source": [
    "x2 = frutas_2.drop(['Class'],axis=1).values\n",
    "y2 = frutas_2.Class.values"
   ]
  },
  {
   "cell_type": "code",
   "execution_count": 30,
   "metadata": {},
   "outputs": [],
   "source": [
    "x2_std = StandardScaler().fit_transform(x2)"
   ]
  },
  {
   "cell_type": "code",
   "execution_count": 31,
   "metadata": {},
   "outputs": [],
   "source": [
    "x2_treino, x2_teste, y2_treino, y2_teste = train_test_split(x2_std,y2,test_size=0.3,random_state=10)"
   ]
  },
  {
   "cell_type": "code",
   "execution_count": 32,
   "metadata": {},
   "outputs": [],
   "source": [
    "random_for2 = RandomForestClassifier()\n",
    "naive_ba2 = GaussianNB()\n",
    "knn2 = KNeighborsClassifier()"
   ]
  },
  {
   "cell_type": "code",
   "execution_count": 33,
   "metadata": {},
   "outputs": [
    {
     "data": {
      "text/plain": [
       "KNeighborsClassifier()"
      ]
     },
     "execution_count": 33,
     "metadata": {},
     "output_type": "execute_result"
    }
   ],
   "source": [
    "random_for2.fit(x2_treino,y2_treino)\n",
    "naive_ba2.fit(x2_treino,y2_treino)\n",
    "knn2.fit(x2_treino,y2_treino)"
   ]
  },
  {
   "cell_type": "code",
   "execution_count": 34,
   "metadata": {},
   "outputs": [],
   "source": [
    "y2_ra_pre = random_for2.predict(x2_teste)\n",
    "y2_na_pre = naive_ba2.predict(x2_teste)\n",
    "y2_knn_pre = knn2.predict(x2_teste)"
   ]
  },
  {
   "cell_type": "code",
   "execution_count": 35,
   "metadata": {},
   "outputs": [
    {
     "name": "stdout",
     "output_type": "stream",
     "text": [
      "Matriz de Confusão random forest\n",
      "[[11  0  4  0]\n",
      " [ 0 20  0  6]\n",
      " [ 0  0 25  0]\n",
      " [ 0  4  0 29]]\n",
      "------------------------------\n",
      "Matriz de Confusão naive bayes\n",
      "[[11  0  4  0]\n",
      " [ 0 20  0  6]\n",
      " [ 1  0 24  0]\n",
      " [ 0  4  0 29]]\n",
      "------------------------------\n",
      "Matriz de Confusão knn\n",
      "[[12  0  3  0]\n",
      " [ 0 17  0  9]\n",
      " [ 2  0 23  0]\n",
      " [ 0  6  0 27]]\n"
     ]
    }
   ],
   "source": [
    "print('Matriz de Confusão random forest')\n",
    "print(confusion_matrix(y2_teste,y2_ra_pre))\n",
    "print('-'*30)\n",
    "\n",
    "print('Matriz de Confusão naive bayes')\n",
    "print(confusion_matrix(y2_teste,y2_na_pre))\n",
    "print('-'*30)\n",
    "\n",
    "print('Matriz de Confusão knn')\n",
    "print(confusion_matrix(y2_teste,y2_knn_pre))"
   ]
  },
  {
   "cell_type": "code",
   "execution_count": 36,
   "metadata": {},
   "outputs": [
    {
     "name": "stdout",
     "output_type": "stream",
     "text": [
      "Métricas do Modelo Usando Random Forest\n",
      "              precision    recall  f1-score   support\n",
      "\n",
      "       BERHI       1.00      0.73      0.85        15\n",
      "      DEGLET       0.83      0.77      0.80        26\n",
      "       IRAQI       0.86      1.00      0.93        25\n",
      "       SOGAY       0.83      0.88      0.85        33\n",
      "\n",
      "    accuracy                           0.86        99\n",
      "   macro avg       0.88      0.85      0.86        99\n",
      "weighted avg       0.86      0.86      0.86        99\n",
      "\n",
      "------------------------------\n",
      "Métricas do Modelo Usando Naive Bayes\n",
      "              precision    recall  f1-score   support\n",
      "\n",
      "       BERHI       0.92      0.73      0.81        15\n",
      "      DEGLET       0.83      0.77      0.80        26\n",
      "       IRAQI       0.86      0.96      0.91        25\n",
      "       SOGAY       0.83      0.88      0.85        33\n",
      "\n",
      "    accuracy                           0.85        99\n",
      "   macro avg       0.86      0.84      0.84        99\n",
      "weighted avg       0.85      0.85      0.85        99\n",
      "\n",
      "------------------------------\n",
      "Métricas do Modelo Usando KNN\n",
      "              precision    recall  f1-score   support\n",
      "\n",
      "       BERHI       0.86      0.80      0.83        15\n",
      "      DEGLET       0.74      0.65      0.69        26\n",
      "       IRAQI       0.88      0.92      0.90        25\n",
      "       SOGAY       0.75      0.82      0.78        33\n",
      "\n",
      "    accuracy                           0.80        99\n",
      "   macro avg       0.81      0.80      0.80        99\n",
      "weighted avg       0.80      0.80      0.80        99\n",
      "\n"
     ]
    }
   ],
   "source": [
    "print('Métricas do Modelo Usando Random Forest')\n",
    "print(classification_report(y2_teste,y2_ra_pre))\n",
    "print('-'*30)\n",
    "print('Métricas do Modelo Usando Naive Bayes')\n",
    "print(classification_report(y2_teste,y2_na_pre))\n",
    "print('-'*30)\n",
    "print('Métricas do Modelo Usando KNN')\n",
    "print(classification_report(y2_teste,y2_knn_pre))"
   ]
  },
  {
   "cell_type": "markdown",
   "metadata": {},
   "source": [
    "Observando a matriz de confusão e as metricas nesse caso pode o que perfomou bem e que poderia ser utilizado é ou o random foret ou o naive bayes já que acertou os mesmo, ma poderia ser utilizada o naive bayes já que o processamento pra se fazer o random forest é maior."
   ]
  },
  {
   "cell_type": "markdown",
   "metadata": {},
   "source": [
    "Agora iremos fazer o cross validation com o dtaframe de frutas um para se ter melhor certeza quanto a resultados."
   ]
  },
  {
   "cell_type": "markdown",
   "metadata": {},
   "source": [
    "Usando o cross-validarion parace que os tres modelos perfomam muito bem mas parece que o nayve bayes é o que melhor classifica"
   ]
  },
  {
   "cell_type": "code",
   "execution_count": 37,
   "metadata": {},
   "outputs": [
    {
     "name": "stdout",
     "output_type": "stream",
     "text": [
      "- fit_time:\n",
      "-- [1.1843946  0.78412008 0.52179885 0.5941999  0.61934376 0.64857984\n",
      " 0.58145499]\n",
      "-- 0.7048417159489223 +- 0.20966023984509843\n",
      "\n",
      "- score_time:\n",
      "-- [0.04208708 0.09164739 0.05245185 0.04261398 0.04893303 0.04176068\n",
      " 0.03310323]\n",
      "-- 0.050371033804757256 +- 0.017773358765702362\n",
      "\n",
      "- test_accuracy:\n",
      "-- [0.98780488 1.         0.98765432 1.         0.98765432 1.\n",
      " 1.        ]\n",
      "-- 0.9947305028605842 +- 0.006084868577529967\n",
      "\n",
      "- test_precision_macro:\n",
      "-- [0.98924731 1.         0.98611111 1.         0.98666667 1.\n",
      " 1.        ]\n",
      "-- 0.9945750128008193 +- 0.006327783548898196\n",
      "\n",
      "- test_recall_macro:\n",
      "-- [0.98809524 1.         0.98850575 1.         0.98809524 1.\n",
      " 1.        ]\n",
      "-- 0.9949566033309877 +- 0.005824990636565321\n",
      "\n"
     ]
    }
   ],
   "source": [
    "from sklearn.model_selection import cross_validate\n",
    "nome_metricas = ['accuracy', 'precision_macro', 'recall_macro']\n",
    "ran_f = RandomForestClassifier()\n",
    "metricas_ran = cross_validate(ran_f, x_std, y, cv=7, scoring=nome_metricas)\n",
    "for met in metricas_ran:\n",
    "    print(f\"- {met}:\")\n",
    "    print(f\"-- {metricas_ran[met]}\")\n",
    "    print(f\"-- {np.mean(metricas_ran[met])} +- {np.std(metricas_ran[met])}\\n\")  "
   ]
  },
  {
   "cell_type": "code",
   "execution_count": 38,
   "metadata": {},
   "outputs": [
    {
     "name": "stdout",
     "output_type": "stream",
     "text": [
      "- fit_time:\n",
      "-- [0.00595546 0.00720429 0.00865626 0.0067904  0.0072341  0.00325704\n",
      " 0.00636005]\n",
      "-- 0.006493943078177316 +- 0.0015400092825174233\n",
      "\n",
      "- score_time:\n",
      "-- [0.00566363 0.00684357 0.00666213 0.00808859 0.00695109 0.00847149\n",
      " 0.01330185]\n",
      "-- 0.007997478757585798 +- 0.0023307190282542563\n",
      "\n",
      "- test_accuracy:\n",
      "-- [1. 1. 1. 1. 1. 1. 1.]\n",
      "-- 1.0 +- 0.0\n",
      "\n",
      "- test_precision_macro:\n",
      "-- [1. 1. 1. 1. 1. 1. 1.]\n",
      "-- 1.0 +- 0.0\n",
      "\n",
      "- test_recall_macro:\n",
      "-- [1. 1. 1. 1. 1. 1. 1.]\n",
      "-- 1.0 +- 0.0\n",
      "\n"
     ]
    }
   ],
   "source": [
    "\n",
    "nb = GaussianNB()\n",
    "metricas_ba = cross_validate(nb, x_std, y, cv=7, scoring=nome_metricas)\n",
    "for met in metricas_ba:\n",
    "    print(f\"- {met}:\")\n",
    "    print(f\"-- {metricas_ba[met]}\")\n",
    "    print(f\"-- {np.mean(metricas_ba[met])} +- {np.std(metricas_ba[met])}\\n\")  "
   ]
  },
  {
   "cell_type": "code",
   "execution_count": 39,
   "metadata": {},
   "outputs": [
    {
     "name": "stdout",
     "output_type": "stream",
     "text": [
      "- fit_time:\n",
      "-- [0.00195432 0.01223588 0.00288081 0.00289536 0.0022738  0.00200868\n",
      " 0.00235319]\n",
      "-- 0.003800289971487863 +- 0.0034613228546357903\n",
      "\n",
      "- score_time:\n",
      "-- [0.07120347 0.0843327  0.04584575 0.04600358 0.09269619 0.0654273\n",
      " 0.06500721]\n",
      "-- 0.0672166006905692 +- 0.016356974174480628\n",
      "\n",
      "- test_accuracy:\n",
      "-- [1.         0.97560976 1.         1.         1.         1.\n",
      " 1.        ]\n",
      "-- 0.9965156794425087 +- 0.008534807466143485\n",
      "\n",
      "- test_precision_macro:\n",
      "-- [1.         0.97435897 1.         1.         1.         1.\n",
      " 1.        ]\n",
      "-- 0.9963369963369964 +- 0.008972489900304649\n",
      "\n",
      "- test_recall_macro:\n",
      "-- [1.         0.97701149 1.         1.         1.         1.\n",
      " 1.        ]\n",
      "-- 0.9967159277504105 +- 0.008044301289928363\n",
      "\n"
     ]
    }
   ],
   "source": [
    "\n",
    "kn = KNeighborsClassifier()\n",
    "metricas_knn = cross_validate(kn, x_std, y, cv=7, scoring=nome_metricas)\n",
    "for met in metricas_knn:\n",
    "    print(f\"- {met}:\")\n",
    "    print(f\"-- {metricas_knn[met]}\")\n",
    "    print(f\"-- {np.mean(metricas_knn[met])} +- {np.std(metricas_knn[met])}\\n\")  "
   ]
  },
  {
   "cell_type": "markdown",
   "metadata": {},
   "source": [
    "Fazendo pelo cross validation, os tres se sairam muito bem, especialmente o naive bayes, então poderia escolher ou o knn ou o naive bayes pra usar esse modelo."
   ]
  },
  {
   "cell_type": "markdown",
   "metadata": {},
   "source": [
    "# Escolhendo as variaveis pra cerificar se perfoma quanto como com todas as variáveis"
   ]
  },
  {
   "cell_type": "markdown",
   "metadata": {},
   "source": [
    "Agora iremos selecionar algumas variaveis para verificar a perfomace se é igual, maior ou menor que com todas as variaveis."
   ]
  },
  {
   "cell_type": "markdown",
   "metadata": {},
   "source": [
    "iremos puxar o histograma acima para verificar como os dados estão distribuidos."
   ]
  },
  {
   "cell_type": "code",
   "execution_count": 40,
   "metadata": {},
   "outputs": [
    {
     "data": {
      "image/png": "[encoded data removed]",
      "text/plain": [
       "<Figure size 1440x1440 with 36 Axes>"
      ]
     },
     "metadata": {},
     "output_type": "display_data"
    }
   ],
   "source": [
    "sns.set(style='darkgrid',rc= {'figure.figsize':(20,20)})\n",
    "frutas.hist(color='purple');"
   ]
  },
  {
   "cell_type": "markdown",
   "metadata": {},
   "source": [
    "Iremos avaliar as seguintes colunas de como estão distribuidas"
   ]
  },
  {
   "cell_type": "code",
   "execution_count": 41,
   "metadata": {},
   "outputs": [
    {
     "data": {
      "text/plain": [
       "Index(['AREA', 'PERIMETER', 'MAJOR_AXIS', 'MINOR_AXIS', 'ECCENTRICITY',\n",
       "       'EQDIASQ', 'SOLIDITY', 'CONVEX_AREA', 'EXTENT', 'ASPECT_RATIO',\n",
       "       'ROUNDNESS', 'COMPACTNESS', 'SHAPEFACTOR_1', 'SHAPEFACTOR_2',\n",
       "       'SHAPEFACTOR_3', 'SHAPEFACTOR_4', 'MeanRR', 'MeanRG', 'MeanRB',\n",
       "       'StdDevRR', 'StdDevRG', 'StdDevRB', 'SkewRR', 'SkewRG', 'SkewRB',\n",
       "       'KurtosisRR', 'KurtosisRG', 'KurtosisRB', 'EntropyRR', 'EntropyRG',\n",
       "       'EntropyRB', 'ALLdaub4RR', 'ALLdaub4RG', 'ALLdaub4RB', 'Class'],\n",
       "      dtype='object')"
      ]
     },
     "execution_count": 41,
     "metadata": {},
     "output_type": "execute_result"
    }
   ],
   "source": [
    "frutas.columns"
   ]
  },
  {
   "cell_type": "code",
   "execution_count": 42,
   "metadata": {},
   "outputs": [
    {
     "data": {
      "text/plain": [
       "<AxesSubplot:xlabel='SOLIDITY', ylabel='Count'>"
      ]
     },
     "execution_count": 42,
     "metadata": {},
     "output_type": "execute_result"
    },
    {
     "data": {
      "image/png": "[encoded data removed]",
      "text/plain": [
       "<Figure size 720x360 with 1 Axes>"
      ]
     },
     "metadata": {},
     "output_type": "display_data"
    }
   ],
   "source": [
    "plt.figure(figsize=(10,5))\n",
    "sns.histplot(x='SOLIDITY',data=frutas)\n"
   ]
  },
  {
   "cell_type": "code",
   "execution_count": 43,
   "metadata": {},
   "outputs": [
    {
     "data": {
      "text/html": [
       "<div>\n",
       "<style scoped>\n",
       "    .dataframe tbody tr th:only-of-type {\n",
       "        vertical-align: middle;\n",
       "    }\n",
       "\n",
       "    .dataframe tbody tr th {\n",
       "        vertical-align: top;\n",
       "    }\n",
       "\n",
       "    .dataframe thead th {\n",
       "        text-align: right;\n",
       "    }\n",
       "</style>\n",
       "<table border=\"1\" class=\"dataframe\">\n",
       "  <thead>\n",
       "    <tr style=\"text-align: right;\">\n",
       "      <th></th>\n",
       "      <th>AREA</th>\n",
       "      <th>PERIMETER</th>\n",
       "      <th>MAJOR_AXIS</th>\n",
       "      <th>MINOR_AXIS</th>\n",
       "      <th>ECCENTRICITY</th>\n",
       "      <th>EQDIASQ</th>\n",
       "      <th>SOLIDITY</th>\n",
       "      <th>CONVEX_AREA</th>\n",
       "      <th>EXTENT</th>\n",
       "      <th>ASPECT_RATIO</th>\n",
       "      <th>...</th>\n",
       "      <th>SkewRB</th>\n",
       "      <th>KurtosisRR</th>\n",
       "      <th>KurtosisRG</th>\n",
       "      <th>KurtosisRB</th>\n",
       "      <th>EntropyRR</th>\n",
       "      <th>EntropyRG</th>\n",
       "      <th>EntropyRB</th>\n",
       "      <th>ALLdaub4RR</th>\n",
       "      <th>ALLdaub4RG</th>\n",
       "      <th>ALLdaub4RB</th>\n",
       "    </tr>\n",
       "  </thead>\n",
       "  <tbody>\n",
       "    <tr>\n",
       "      <th>count</th>\n",
       "      <td>898.000000</td>\n",
       "      <td>898.000000</td>\n",
       "      <td>898.000000</td>\n",
       "      <td>898.000000</td>\n",
       "      <td>898.000000</td>\n",
       "      <td>898.000000</td>\n",
       "      <td>898.000000</td>\n",
       "      <td>898.000000</td>\n",
       "      <td>898.000000</td>\n",
       "      <td>898.000000</td>\n",
       "      <td>...</td>\n",
       "      <td>898.000000</td>\n",
       "      <td>898.000000</td>\n",
       "      <td>898.000000</td>\n",
       "      <td>898.000000</td>\n",
       "      <td>8.980000e+02</td>\n",
       "      <td>8.980000e+02</td>\n",
       "      <td>8.980000e+02</td>\n",
       "      <td>898.000000</td>\n",
       "      <td>898.000000</td>\n",
       "      <td>898.000000</td>\n",
       "    </tr>\n",
       "    <tr>\n",
       "      <th>mean</th>\n",
       "      <td>298295.207127</td>\n",
       "      <td>2057.660953</td>\n",
       "      <td>750.811994</td>\n",
       "      <td>495.872785</td>\n",
       "      <td>0.737468</td>\n",
       "      <td>604.577938</td>\n",
       "      <td>0.981840</td>\n",
       "      <td>303845.592428</td>\n",
       "      <td>0.736267</td>\n",
       "      <td>2.131102</td>\n",
       "      <td>...</td>\n",
       "      <td>0.250518</td>\n",
       "      <td>4.247845</td>\n",
       "      <td>5.110894</td>\n",
       "      <td>3.780928</td>\n",
       "      <td>-3.185021e+10</td>\n",
       "      <td>-2.901860e+10</td>\n",
       "      <td>-2.771876e+10</td>\n",
       "      <td>50.082888</td>\n",
       "      <td>48.805681</td>\n",
       "      <td>48.098393</td>\n",
       "    </tr>\n",
       "    <tr>\n",
       "      <th>std</th>\n",
       "      <td>107245.205337</td>\n",
       "      <td>410.012459</td>\n",
       "      <td>144.059326</td>\n",
       "      <td>114.268917</td>\n",
       "      <td>0.088727</td>\n",
       "      <td>119.593888</td>\n",
       "      <td>0.018157</td>\n",
       "      <td>108815.656947</td>\n",
       "      <td>0.053745</td>\n",
       "      <td>17.820778</td>\n",
       "      <td>...</td>\n",
       "      <td>0.632918</td>\n",
       "      <td>2.892357</td>\n",
       "      <td>3.745463</td>\n",
       "      <td>2.049831</td>\n",
       "      <td>2.037241e+10</td>\n",
       "      <td>1.712952e+10</td>\n",
       "      <td>1.484137e+10</td>\n",
       "      <td>16.063125</td>\n",
       "      <td>14.125911</td>\n",
       "      <td>10.813862</td>\n",
       "    </tr>\n",
       "    <tr>\n",
       "      <th>min</th>\n",
       "      <td>1987.000000</td>\n",
       "      <td>911.828000</td>\n",
       "      <td>336.722700</td>\n",
       "      <td>2.283200</td>\n",
       "      <td>0.344800</td>\n",
       "      <td>50.298400</td>\n",
       "      <td>0.836600</td>\n",
       "      <td>2257.000000</td>\n",
       "      <td>0.512300</td>\n",
       "      <td>1.065300</td>\n",
       "      <td>...</td>\n",
       "      <td>-1.029100</td>\n",
       "      <td>1.708200</td>\n",
       "      <td>1.607600</td>\n",
       "      <td>1.767200</td>\n",
       "      <td>-1.091224e+11</td>\n",
       "      <td>-9.261697e+10</td>\n",
       "      <td>-8.747177e+10</td>\n",
       "      <td>15.191100</td>\n",
       "      <td>20.524700</td>\n",
       "      <td>22.130000</td>\n",
       "    </tr>\n",
       "    <tr>\n",
       "      <th>25%</th>\n",
       "      <td>206948.000000</td>\n",
       "      <td>1726.091500</td>\n",
       "      <td>641.068650</td>\n",
       "      <td>404.684375</td>\n",
       "      <td>0.685625</td>\n",
       "      <td>513.317075</td>\n",
       "      <td>0.978825</td>\n",
       "      <td>210022.750000</td>\n",
       "      <td>0.705875</td>\n",
       "      <td>1.373725</td>\n",
       "      <td>...</td>\n",
       "      <td>-0.196950</td>\n",
       "      <td>2.536625</td>\n",
       "      <td>2.508850</td>\n",
       "      <td>2.577275</td>\n",
       "      <td>-4.429444e+10</td>\n",
       "      <td>-3.894638e+10</td>\n",
       "      <td>-3.564534e+10</td>\n",
       "      <td>38.224425</td>\n",
       "      <td>38.654525</td>\n",
       "      <td>39.250725</td>\n",
       "    </tr>\n",
       "    <tr>\n",
       "      <th>50%</th>\n",
       "      <td>319833.000000</td>\n",
       "      <td>2196.345450</td>\n",
       "      <td>791.363400</td>\n",
       "      <td>495.054850</td>\n",
       "      <td>0.754700</td>\n",
       "      <td>638.140950</td>\n",
       "      <td>0.987300</td>\n",
       "      <td>327207.000000</td>\n",
       "      <td>0.746950</td>\n",
       "      <td>1.524150</td>\n",
       "      <td>...</td>\n",
       "      <td>0.135550</td>\n",
       "      <td>3.069800</td>\n",
       "      <td>3.127800</td>\n",
       "      <td>3.080700</td>\n",
       "      <td>-2.826156e+10</td>\n",
       "      <td>-2.620990e+10</td>\n",
       "      <td>-2.392928e+10</td>\n",
       "      <td>53.841300</td>\n",
       "      <td>50.337800</td>\n",
       "      <td>49.614100</td>\n",
       "    </tr>\n",
       "    <tr>\n",
       "      <th>75%</th>\n",
       "      <td>382573.000000</td>\n",
       "      <td>2389.716575</td>\n",
       "      <td>858.633750</td>\n",
       "      <td>589.031700</td>\n",
       "      <td>0.802150</td>\n",
       "      <td>697.930525</td>\n",
       "      <td>0.991800</td>\n",
       "      <td>388804.000000</td>\n",
       "      <td>0.775850</td>\n",
       "      <td>1.674750</td>\n",
       "      <td>...</td>\n",
       "      <td>0.593950</td>\n",
       "      <td>4.449850</td>\n",
       "      <td>7.320400</td>\n",
       "      <td>4.283125</td>\n",
       "      <td>-1.460482e+10</td>\n",
       "      <td>-1.433105e+10</td>\n",
       "      <td>-1.660367e+10</td>\n",
       "      <td>63.063350</td>\n",
       "      <td>59.573600</td>\n",
       "      <td>56.666675</td>\n",
       "    </tr>\n",
       "    <tr>\n",
       "      <th>max</th>\n",
       "      <td>546063.000000</td>\n",
       "      <td>2811.997100</td>\n",
       "      <td>1222.723000</td>\n",
       "      <td>766.453600</td>\n",
       "      <td>1.000000</td>\n",
       "      <td>833.827900</td>\n",
       "      <td>0.997400</td>\n",
       "      <td>552598.000000</td>\n",
       "      <td>0.856200</td>\n",
       "      <td>535.525700</td>\n",
       "      <td>...</td>\n",
       "      <td>3.092300</td>\n",
       "      <td>26.171100</td>\n",
       "      <td>26.736700</td>\n",
       "      <td>32.249500</td>\n",
       "      <td>-1.627316e+08</td>\n",
       "      <td>-5.627727e+08</td>\n",
       "      <td>-4.370435e+08</td>\n",
       "      <td>79.828900</td>\n",
       "      <td>83.064900</td>\n",
       "      <td>74.104600</td>\n",
       "    </tr>\n",
       "  </tbody>\n",
       "</table>\n",
       "<p>8 rows × 34 columns</p>\n",
       "</div>"
      ],
      "text/plain": [
       "                AREA    PERIMETER   MAJOR_AXIS  MINOR_AXIS  ECCENTRICITY  \\\n",
       "count     898.000000   898.000000   898.000000  898.000000    898.000000   \n",
       "mean   298295.207127  2057.660953   750.811994  495.872785      0.737468   \n",
       "std    107245.205337   410.012459   144.059326  114.268917      0.088727   \n",
       "min      1987.000000   911.828000   336.722700    2.283200      0.344800   \n",
       "25%    206948.000000  1726.091500   641.068650  404.684375      0.685625   \n",
       "50%    319833.000000  2196.345450   791.363400  495.054850      0.754700   \n",
       "75%    382573.000000  2389.716575   858.633750  589.031700      0.802150   \n",
       "max    546063.000000  2811.997100  1222.723000  766.453600      1.000000   \n",
       "\n",
       "          EQDIASQ    SOLIDITY    CONVEX_AREA      EXTENT  ASPECT_RATIO  ...  \\\n",
       "count  898.000000  898.000000     898.000000  898.000000    898.000000  ...   \n",
       "mean   604.577938    0.981840  303845.592428    0.736267      2.131102  ...   \n",
       "std    119.593888    0.018157  108815.656947    0.053745     17.820778  ...   \n",
       "min     50.298400    0.836600    2257.000000    0.512300      1.065300  ...   \n",
       "25%    513.317075    0.978825  210022.750000    0.705875      1.373725  ...   \n",
       "50%    638.140950    0.987300  327207.000000    0.746950      1.524150  ...   \n",
       "75%    697.930525    0.991800  388804.000000    0.775850      1.674750  ...   \n",
       "max    833.827900    0.997400  552598.000000    0.856200    535.525700  ...   \n",
       "\n",
       "           SkewRB  KurtosisRR  KurtosisRG  KurtosisRB     EntropyRR  \\\n",
       "count  898.000000  898.000000  898.000000  898.000000  8.980000e+02   \n",
       "mean     0.250518    4.247845    5.110894    3.780928 -3.185021e+10   \n",
       "std      0.632918    2.892357    3.745463    2.049831  2.037241e+10   \n",
       "min     -1.029100    1.708200    1.607600    1.767200 -1.091224e+11   \n",
       "25%     -0.196950    2.536625    2.508850    2.577275 -4.429444e+10   \n",
       "50%      0.135550    3.069800    3.127800    3.080700 -2.826156e+10   \n",
       "75%      0.593950    4.449850    7.320400    4.283125 -1.460482e+10   \n",
       "max      3.092300   26.171100   26.736700   32.249500 -1.627316e+08   \n",
       "\n",
       "          EntropyRG     EntropyRB  ALLdaub4RR  ALLdaub4RG  ALLdaub4RB  \n",
       "count  8.980000e+02  8.980000e+02  898.000000  898.000000  898.000000  \n",
       "mean  -2.901860e+10 -2.771876e+10   50.082888   48.805681   48.098393  \n",
       "std    1.712952e+10  1.484137e+10   16.063125   14.125911   10.813862  \n",
       "min   -9.261697e+10 -8.747177e+10   15.191100   20.524700   22.130000  \n",
       "25%   -3.894638e+10 -3.564534e+10   38.224425   38.654525   39.250725  \n",
       "50%   -2.620990e+10 -2.392928e+10   53.841300   50.337800   49.614100  \n",
       "75%   -1.433105e+10 -1.660367e+10   63.063350   59.573600   56.666675  \n",
       "max   -5.627727e+08 -4.370435e+08   79.828900   83.064900   74.104600  \n",
       "\n",
       "[8 rows x 34 columns]"
      ]
     },
     "execution_count": 43,
     "metadata": {},
     "output_type": "execute_result"
    }
   ],
   "source": [
    "frutas.describe()"
   ]
  },
  {
   "cell_type": "code",
   "execution_count": 44,
   "metadata": {},
   "outputs": [
    {
     "data": {
      "text/plain": [
       "array([  1.2976,   1.2161,   1.315 ,   1.2831,   1.3108,   1.3508,\n",
       "         1.3631,   1.3263,   1.1956,   1.2972,   1.3388,   1.3099,\n",
       "         1.1869,   1.2067,   1.3371,   1.3835,   1.2716,   1.2255,\n",
       "         1.3066,   1.489 ,   1.2935,   1.3221,   1.1292,   1.3076,\n",
       "         1.3145,   1.102 ,   1.2524,   1.4792,   1.2977,   1.3332,\n",
       "         1.1313,   1.3231,   1.4049,   1.2938,   1.1453,   1.3307,\n",
       "         1.2924,   1.2754,   1.122 ,   1.242 ,   1.3098,   1.2247,\n",
       "         1.2361,   1.2892,   1.2585,   1.2565,   1.2369,   1.2628,\n",
       "         1.2431,   1.145 ,   1.4873,   1.2599,   1.2508,   1.3588,\n",
       "         1.3192,   1.2941,   1.2836,   1.26  ,   1.4389,   1.3885,\n",
       "         1.4013,   1.2578,   1.301 ,   1.428 ,   1.5556,   1.6201,\n",
       "         1.742 ,   1.4924,   1.8037,   1.6423,   1.525 ,   1.7713,\n",
       "         1.8384,   1.4458,   1.7072,   1.7585,   1.6799,   1.4228,\n",
       "         1.329 ,   1.7325,   1.4799,   1.6264,   1.6926,   1.568 ,\n",
       "         1.451 ,   1.6552,   1.3429,   1.5144,   1.6417,   1.7234,\n",
       "         1.6017,   1.6727,   1.7477,   1.3027,   1.5229,   1.5672,\n",
       "         1.5077,   1.5151,   1.4547,   1.3404,   1.4529,   1.5914,\n",
       "         1.6343,   1.507 ,   1.6323,   1.2026,   1.6229,   1.4129,\n",
       "         1.5978,   1.3973,   1.5973,   1.5241,   1.5912,   1.4728,\n",
       "         1.5875,   1.6588,   1.3503,   1.4508,   1.4367,   1.6961,\n",
       "         1.5971,   1.3605,   1.5131,   1.4456,   1.4862,   1.5094,\n",
       "         1.4897,   1.3694,   1.5905,   1.5441,   1.3464,   1.4689,\n",
       "         1.5975,   1.8165,   1.4295,   1.6831,   1.687 ,   1.519 ,\n",
       "         1.4137,   1.6939,   1.5013,   1.5616,   1.4488,   1.3597,\n",
       "         1.6679,   1.55  ,   1.6601,   1.4626,   1.2711,   1.6681,\n",
       "         1.6416,   1.529 ,   1.5708,   1.5763,   1.6855,   1.5382,\n",
       "         1.578 ,   1.561 ,   1.6115,   1.5171,   1.5424,   1.4092,\n",
       "         1.5614,   1.5842,   1.5766,   1.6206,   1.597 ,   1.5908,\n",
       "         1.7038,   1.7185,   1.5183,   1.5448,   1.442 ,   1.552 ,\n",
       "         1.4632,   1.3874,   1.6028,   1.4839,   1.6281,   1.4787,\n",
       "         1.6127,   1.7548,   1.2917,   1.3947,   1.6675,   1.4545,\n",
       "         1.4775,   1.674 ,   1.7479,   1.4023,   1.7219,   1.5529,\n",
       "         1.4465,   1.5664,   1.5741,   1.5154,   1.5431,   1.6519,\n",
       "         1.606 ,   1.6759,   1.5892,   1.6472,   1.3304,   1.5467,\n",
       "         1.6241,   1.6128,   1.5624,   1.8779,   1.7161,   1.5358,\n",
       "         1.6619,   1.5301,   1.586 ,   1.6216,   1.5209,   1.6611,\n",
       "         1.4808,   1.4086,   1.5555,   1.4541,   1.7295,   1.5007,\n",
       "         1.4868,   1.4441,   1.6256,   1.6876,   1.6589,   1.3971,\n",
       "         1.6292,   1.661 ,   1.4029,   1.677 ,   1.5211,   1.5635,\n",
       "         1.4551,   1.3832,   1.4947,   1.6566,   1.5541,   1.8342,\n",
       "         1.3574,   1.6378,   1.3389,   1.6328,   1.6711,   1.538 ,\n",
       "         1.3456,   1.7528,   1.6648,   1.523 ,   1.429 ,   1.5191,\n",
       "         1.4743,   1.5113,   1.4197,   1.4162,   1.5111,   1.6008,\n",
       "         1.4831,   1.5695,   1.4144,   1.5666,   1.6844,   1.5083,\n",
       "         1.4898,   1.7171,   1.6789,   1.7769,   1.6397,   1.6297,\n",
       "         1.7044,   1.4694,   1.5268,   1.6219,   1.5307,   1.4963,\n",
       "         1.5463,   1.4731,   1.5807,   1.3707,   1.6244,   1.6983,\n",
       "         1.7035,   1.8737,   1.7868,   1.6078,   1.712 ,   1.5201,\n",
       "         1.5326,   1.4241,   1.5537,   1.398 ,   1.7475,   1.5311,\n",
       "         1.5402,   1.5949,   1.7332,   1.7457,   1.5248,   1.3102,\n",
       "         1.7343,   1.5304,   1.4879,   1.7276,   1.7898,   1.5521,\n",
       "         1.5393,   1.2619,   1.6948,   1.4038,   1.4513,   1.5837,\n",
       "         1.8294,   1.5847,   1.8278,   1.5996,   1.8859,   1.5103,\n",
       "         1.7103,   1.7541,   1.58  ,   1.7598,   1.4848,   1.5503,\n",
       "         1.5587,   1.7093,   1.4765,   1.506 ,   1.547 ,   1.3709,\n",
       "         1.5596,   1.3801,   1.5828,   1.3633,   1.3658,   1.5065,\n",
       "         1.6184,   1.3046,   1.6143,   1.6188,   1.6214,   1.481 ,\n",
       "         1.4759,   1.3815,   1.5073,   1.4882,   1.4304,   1.6818,\n",
       "         1.59  ,   1.6259,   1.5896,   1.501 ,   1.5244,   1.5769,\n",
       "         1.3944,   1.7777,   1.1145,   1.1787,   1.2669,   1.3786,\n",
       "         1.2514,   1.3426,   1.0653,   1.1614,   1.2337,   1.265 ,\n",
       "         1.1999,   1.1351,   1.3507,   1.3299,   1.2931,   1.2469,\n",
       "         1.1739,   1.0793,   1.1208,   1.2287,   1.3059,   1.1786,\n",
       "         1.2727,   1.2479,   1.2638,   1.1982,   1.3011,   1.1384,\n",
       "         1.2336,   1.1629,   1.268 ,   1.3165,   1.1873,   1.2398,\n",
       "         1.2056,   1.2424,   1.2621,   1.4216,   1.4147,   1.2434,\n",
       "         1.488 ,   1.2859,   1.3751,   1.2208,   1.208 ,   1.1659,\n",
       "         1.2554,   1.3346,   1.2617,   1.3493,   1.3113,   1.3158,\n",
       "         1.2219,   1.2133,   1.2367,   1.4749,   1.4611,   1.1689,\n",
       "         1.5379,   1.2639,   1.3343,   1.2645,   1.1545,   1.2278,\n",
       "         1.1916,   1.1149,   1.562 ,   1.227 ,   1.2114,   1.2856,\n",
       "         1.4629,   1.3198,   1.5273,   1.3883,   1.2463,   1.4602,\n",
       "         1.4503,   1.3386,   1.3964,   1.3287,   1.2749,   1.4259,\n",
       "         1.323 ,   1.3932,   1.2004,   1.4331,   1.3913,   1.3274,\n",
       "         1.3188,   1.3506,   1.3611,   1.4104,   1.1757,   1.5737,\n",
       "         1.5068,   1.2229,   1.4224,   1.3776,   1.5454,   1.4966,\n",
       "         1.6941,   1.3077,   1.3314,   1.3956,   1.1267,   1.5069,\n",
       "         1.2223,   1.3645,   1.2951,   1.4043,   1.3268,   1.2325,\n",
       "         1.5269,   1.4887,   1.41  ,   1.3831,   1.3269,   1.404 ,\n",
       "         1.3768,   1.4736,   1.2097,   1.4943,   1.2629,   1.3837,\n",
       "         1.4921,   1.4   ,   1.4152,   1.3016,   1.3744,   1.3792,\n",
       "         1.3906,   1.4397,   1.4371,   1.2458,   1.6787,   1.3523,\n",
       "         1.3021,   1.4684,   1.435 ,   1.3276,   1.4874,   1.4834,\n",
       "         1.3418,   1.3513,   1.3042,   1.3179,   1.3724,   1.2948,\n",
       "         1.3399,   1.4076,   1.4116,   1.4794,   1.4522,   1.4987,\n",
       "         1.3494,   1.3259,   1.5922,   1.3528,   1.5599,   1.5176,\n",
       "         1.4391,   1.307 ,   1.3988,   1.3273,   1.3954,   1.3441,\n",
       "         1.3902,   1.3735,   1.6048,   1.3074,   1.4574,   1.3697,\n",
       "         1.2622,   1.4317,   1.3079,   1.4591,   1.5388,   1.1553,\n",
       "         1.544 ,   1.3449,   1.3608,   1.5507,   1.2995,   1.3922,\n",
       "         1.2901,   1.2757,   1.5029,   1.2764,   1.2301,   1.4169,\n",
       "         1.3491,   1.4703,   1.3653,   1.2556,   1.4907,   1.2333,\n",
       "         1.4837,   1.3515,   1.2521,   1.5353,   1.3928,   1.4204,\n",
       "         1.419 ,   1.4395,   1.5084,   1.5715,   1.2277,   1.3445,\n",
       "         1.3799,   1.2349,   1.4312,   1.479 ,   1.5527,   1.4793,\n",
       "         1.4803,   1.3949,   1.4613,   1.1965,   1.4045,   1.5665,\n",
       "         1.3502,   1.4351,   1.3856,   1.2196,   1.8925,   1.7645,\n",
       "         1.8728,   2.0176,   1.8463,   1.6806,   2.1116,   2.2963,\n",
       "         1.6007,   1.8523, 535.5257,   1.5776,   1.5242,   2.0938,\n",
       "         1.9263,   1.4635,   1.6986,   1.6112,   1.8098,   1.8077,\n",
       "         1.5773,   1.9666,   1.7233,   1.6465,   1.675 ,   1.6232,\n",
       "         1.7553,   1.7417,   1.6871,   1.8767,   1.8713,   1.7415,\n",
       "         1.605 ,   1.8052,   1.6512,   1.7838,   1.5964,   1.9832,\n",
       "         1.3282,   1.9062,   1.7217,   1.6867,   1.7586,   1.5791,\n",
       "         1.8161,   1.77  ,   1.7051,   1.5206,   1.8179,   1.6167,\n",
       "         1.5863,   1.9862,   1.5239,   2.3328,   2.2228,   2.0079,\n",
       "         1.6965,   1.5789,   1.7989,   1.698 ,   1.5289,   1.6251,\n",
       "         1.9633,   2.2933,   1.8921,   1.8657,   1.7181,   1.7862,\n",
       "         1.7894,   1.5843,   1.8112,   1.756 ,   1.709 ,   2.0709,\n",
       "         1.8085,   2.2134,   1.9043,   1.8227,   1.583 ,   1.7768,\n",
       "         1.8519,   1.8197,   1.881 ,   1.7079,   1.9414,   1.7129,\n",
       "         1.8529,   1.927 ,   1.7398,   2.0215,   1.6255,   1.8535,\n",
       "         1.7509,   2.1395,   1.6987,   1.832 ,   1.8486,   2.0601,\n",
       "         2.0313,   1.7984,   1.8027,   2.0101,   1.676 ,   1.8539,\n",
       "         1.8702,   1.7242,   1.8069,   1.8457,   1.8091,   1.6223,\n",
       "         1.7565,   1.8968,   1.6661,   1.9148,   1.868 ,   2.0102,\n",
       "         1.8368,   1.6779,   1.7389,   1.9857,   1.6469,   1.8564,\n",
       "         1.7046,   1.7954,   1.3802,   1.8158,   1.5391,   1.6105,\n",
       "         1.9272,   1.7866,   1.9179,   1.9526,   1.8989,   2.064 ,\n",
       "         1.7076,   1.8503,   1.6874,   1.7363,   1.8734,   1.8449,\n",
       "         1.612 ,   1.6598,   1.8272,   1.8547,   1.6597,   1.5951,\n",
       "         1.824 ,   1.8458,   1.9125,   1.7578,   1.7608,   1.778 ,\n",
       "         1.7574,   1.6521,   1.7979,   1.9016,   1.8858,   1.5963,\n",
       "         1.8911,   1.7525,   1.7436,   1.898 ,   1.7416,   2.1597,\n",
       "         1.592 ,   2.0348,   1.6548,   1.6666,   1.5459,   1.7222,\n",
       "         1.7949,   2.0267,   2.0595,   1.782 ,   1.9534,   1.9848,\n",
       "         1.973 ,   1.8088,   1.7032,   1.8082,   1.8787,   2.2109,\n",
       "         2.2533,   2.021 ,   1.8419,   2.1505,   1.7107,   1.8033,\n",
       "         1.9128,   2.2565,   1.6982,   1.4082,   1.6238,   1.5651,\n",
       "         1.616 ,   1.3233,   1.4141,   1.3936,   1.7799,   1.7094,\n",
       "         1.6179,   1.5913,   1.4475,   1.7743,   1.3603,   1.5931,\n",
       "         1.5706,   1.5383,   1.4726,   1.5407,   1.5755,   1.6732,\n",
       "         1.9144,   1.6097,   1.8051,   1.3907,   1.415 ,   1.3674,\n",
       "         1.5637,   1.6689,   1.6875,   1.353 ,   1.4521,   1.5871,\n",
       "         1.5469,   1.2561,   1.5252,   1.4866,   1.3918,   1.4846,\n",
       "         1.6354,   1.668 ,   1.4378,   1.4856,   1.6667,   1.3868,\n",
       "         1.47  ,   1.6468,   1.5917,   1.496 ,   1.5012,   1.3471,\n",
       "         1.4877,   1.3043,   1.5751,   1.551 ,   1.4394,   1.8912,\n",
       "         1.3829,   1.4606,   1.5284,   1.5328,   1.2852,   1.555 ,\n",
       "         1.3552,   1.3665,   1.5984,   1.3978,   1.4858,   1.5177,\n",
       "         1.6089,   1.6227,   1.8802,   1.5492,   1.4664,   1.4099,\n",
       "         1.5074,   1.4454,   1.5258,   1.5494,   1.5868,   1.6408,\n",
       "         1.5942,   1.5583,   1.4795,   1.4499,   1.7159,   1.622 ,\n",
       "         1.5405])"
      ]
     },
     "execution_count": 44,
     "metadata": {},
     "output_type": "execute_result"
    }
   ],
   "source": [
    "frutas['ASPECT_RATIO'].unique()"
   ]
  },
  {
   "cell_type": "code",
   "execution_count": 45,
   "metadata": {},
   "outputs": [
    {
     "data": {
      "text/html": [
       "<div>\n",
       "<style scoped>\n",
       "    .dataframe tbody tr th:only-of-type {\n",
       "        vertical-align: middle;\n",
       "    }\n",
       "\n",
       "    .dataframe tbody tr th {\n",
       "        vertical-align: top;\n",
       "    }\n",
       "\n",
       "    .dataframe thead th {\n",
       "        text-align: right;\n",
       "    }\n",
       "</style>\n",
       "<table border=\"1\" class=\"dataframe\">\n",
       "  <thead>\n",
       "    <tr style=\"text-align: right;\">\n",
       "      <th></th>\n",
       "      <th>AREA</th>\n",
       "      <th>PERIMETER</th>\n",
       "      <th>MAJOR_AXIS</th>\n",
       "      <th>MINOR_AXIS</th>\n",
       "      <th>ECCENTRICITY</th>\n",
       "      <th>EQDIASQ</th>\n",
       "      <th>SOLIDITY</th>\n",
       "      <th>CONVEX_AREA</th>\n",
       "      <th>EXTENT</th>\n",
       "      <th>ASPECT_RATIO</th>\n",
       "      <th>...</th>\n",
       "      <th>KurtosisRR</th>\n",
       "      <th>KurtosisRG</th>\n",
       "      <th>KurtosisRB</th>\n",
       "      <th>EntropyRR</th>\n",
       "      <th>EntropyRG</th>\n",
       "      <th>EntropyRB</th>\n",
       "      <th>ALLdaub4RR</th>\n",
       "      <th>ALLdaub4RG</th>\n",
       "      <th>ALLdaub4RB</th>\n",
       "      <th>Class</th>\n",
       "    </tr>\n",
       "  </thead>\n",
       "  <tbody>\n",
       "    <tr>\n",
       "      <th>615</th>\n",
       "      <td>1987</td>\n",
       "      <td>2289.3059</td>\n",
       "      <td>1222.723</td>\n",
       "      <td>2.2832</td>\n",
       "      <td>1.0</td>\n",
       "      <td>50.2984</td>\n",
       "      <td>0.8804</td>\n",
       "      <td>2257</td>\n",
       "      <td>0.8528</td>\n",
       "      <td>535.5257</td>\n",
       "      <td>...</td>\n",
       "      <td>7.3693</td>\n",
       "      <td>2.0304</td>\n",
       "      <td>7.4326</td>\n",
       "      <td>-162731632</td>\n",
       "      <td>-562772672</td>\n",
       "      <td>-437043456</td>\n",
       "      <td>47.2597</td>\n",
       "      <td>83.0649</td>\n",
       "      <td>74.1046</td>\n",
       "      <td>SAFAVI</td>\n",
       "    </tr>\n",
       "  </tbody>\n",
       "</table>\n",
       "<p>1 rows × 35 columns</p>\n",
       "</div>"
      ],
      "text/plain": [
       "     AREA  PERIMETER  MAJOR_AXIS  MINOR_AXIS  ECCENTRICITY  EQDIASQ  SOLIDITY  \\\n",
       "615  1987  2289.3059    1222.723      2.2832           1.0  50.2984    0.8804   \n",
       "\n",
       "     CONVEX_AREA  EXTENT  ASPECT_RATIO  ...  KurtosisRR  KurtosisRG  \\\n",
       "615         2257  0.8528      535.5257  ...      7.3693      2.0304   \n",
       "\n",
       "     KurtosisRB  EntropyRR  EntropyRG  EntropyRB  ALLdaub4RR  ALLdaub4RG  \\\n",
       "615      7.4326 -162731632 -562772672 -437043456     47.2597     83.0649   \n",
       "\n",
       "     ALLdaub4RB   Class  \n",
       "615     74.1046  SAFAVI  \n",
       "\n",
       "[1 rows x 35 columns]"
      ]
     },
     "execution_count": 45,
     "metadata": {},
     "output_type": "execute_result"
    }
   ],
   "source": [
    "frutas[frutas['ASPECT_RATIO']>500]"
   ]
  },
  {
   "cell_type": "markdown",
   "metadata": {},
   "source": [
    "pro aspect radio pode se perceber que os valores estão muito próximos, mas tem um valor q esta muito alto que os demais, isso pode ser um outlier"
   ]
  },
  {
   "cell_type": "code",
   "execution_count": 46,
   "metadata": {},
   "outputs": [
    {
     "data": {
      "text/plain": [
       "count    898.000000\n",
       "mean       0.003428\n",
       "std        0.020456\n",
       "min        0.001700\n",
       "25%        0.002200\n",
       "50%        0.002600\n",
       "75%        0.003200\n",
       "max        0.615400\n",
       "Name: SHAPEFACTOR_1, dtype: float64"
      ]
     },
     "execution_count": 46,
     "metadata": {},
     "output_type": "execute_result"
    }
   ],
   "source": [
    "frutas['SHAPEFACTOR_1'].describe()\n"
   ]
  },
  {
   "cell_type": "code",
   "execution_count": 47,
   "metadata": {},
   "outputs": [
    {
     "data": {
      "text/plain": [
       "count    898.000000\n",
       "mean       0.988680\n",
       "std        0.020473\n",
       "min        0.756800\n",
       "25%        0.989300\n",
       "50%        0.993600\n",
       "75%        0.996400\n",
       "max        0.999500\n",
       "Name: SHAPEFACTOR_4, dtype: float64"
      ]
     },
     "execution_count": 47,
     "metadata": {},
     "output_type": "execute_result"
    }
   ],
   "source": [
    "frutas['SHAPEFACTOR_4'].describe()"
   ]
  },
  {
   "cell_type": "code",
   "execution_count": 48,
   "metadata": {},
   "outputs": [
    {
     "data": {
      "text/plain": [
       "count    898.000000\n",
       "mean       4.247845\n",
       "std        2.892357\n",
       "min        1.708200\n",
       "25%        2.536625\n",
       "50%        3.069800\n",
       "75%        4.449850\n",
       "max       26.171100\n",
       "Name: KurtosisRR, dtype: float64"
      ]
     },
     "execution_count": 48,
     "metadata": {},
     "output_type": "execute_result"
    }
   ],
   "source": [
    "frutas['KurtosisRR'].describe()"
   ]
  },
  {
   "cell_type": "code",
   "execution_count": 49,
   "metadata": {},
   "outputs": [
    {
     "data": {
      "image/png": "[encoded data removed]",
      "text/plain": [
       "<Figure size 720x360 with 1 Axes>"
      ]
     },
     "metadata": {},
     "output_type": "display_data"
    }
   ],
   "source": [
    "plt.figure(figsize=(10,5))\n",
    "sns.histplot(x='KurtosisRR',data=frutas);"
   ]
  },
  {
   "cell_type": "markdown",
   "metadata": {},
   "source": [
    "pode manter essa variavel do *KurtosisRR* pois tem uma variação maior do que as outas que estamos olhando"
   ]
  },
  {
   "cell_type": "code",
   "execution_count": 50,
   "metadata": {},
   "outputs": [
    {
     "data": {
      "text/plain": [
       "count    898.000000\n",
       "mean       5.110894\n",
       "std        3.745463\n",
       "min        1.607600\n",
       "25%        2.508850\n",
       "50%        3.127800\n",
       "75%        7.320400\n",
       "max       26.736700\n",
       "Name: KurtosisRG, dtype: float64"
      ]
     },
     "execution_count": 50,
     "metadata": {},
     "output_type": "execute_result"
    }
   ],
   "source": [
    "frutas['KurtosisRG'].describe()"
   ]
  },
  {
   "cell_type": "code",
   "execution_count": 51,
   "metadata": {},
   "outputs": [
    {
     "data": {
      "image/png": "[encoded data removed]",
      "text/plain": [
       "<Figure size 720x360 with 1 Axes>"
      ]
     },
     "metadata": {},
     "output_type": "display_data"
    }
   ],
   "source": [
    "plt.figure(figsize=(10,5))\n",
    "sns.histplot(x='KurtosisRG',data=frutas,color='red');"
   ]
  },
  {
   "cell_type": "code",
   "execution_count": 52,
   "metadata": {},
   "outputs": [
    {
     "data": {
      "image/png": "[encoded data removed]",
      "text/plain": [
       "<Figure size 720x360 with 1 Axes>"
      ]
     },
     "metadata": {},
     "output_type": "display_data"
    }
   ],
   "source": [
    "plt.figure(figsize=(10,5))\n",
    "sns.histplot(x='KurtosisRB',data=frutas);"
   ]
  },
  {
   "cell_type": "code",
   "execution_count": 53,
   "metadata": {},
   "outputs": [
    {
     "data": {
      "text/plain": [
       "count    898.000000\n",
       "mean       3.780928\n",
       "std        2.049831\n",
       "min        1.767200\n",
       "25%        2.577275\n",
       "50%        3.080700\n",
       "75%        4.283125\n",
       "max       32.249500\n",
       "Name: KurtosisRB, dtype: float64"
      ]
     },
     "execution_count": 53,
     "metadata": {},
     "output_type": "execute_result"
    }
   ],
   "source": [
    "frutas['KurtosisRB'].describe()"
   ]
  },
  {
   "cell_type": "markdown",
   "metadata": {},
   "source": [
    "podemos excluir esaa colunas já que possui valores muito pequenos: SOLIDITY',ASPECT_RATIO','SHAPEFACTOR_1'."
   ]
  },
  {
   "cell_type": "code",
   "execution_count": 54,
   "metadata": {},
   "outputs": [],
   "source": [
    "frutas_1_re = frutas_1.drop(['SOLIDITY','ASPECT_RATIO','SHAPEFACTOR_1'],axis=1)\n",
    "frutas_2_re = frutas_2.drop(['SOLIDITY','ASPECT_RATIO','SHAPEFACTOR_1'],axis=1)"
   ]
  },
  {
   "cell_type": "code",
   "execution_count": 55,
   "metadata": {},
   "outputs": [
    {
     "data": {
      "text/html": [
       "<div>\n",
       "<style scoped>\n",
       "    .dataframe tbody tr th:only-of-type {\n",
       "        vertical-align: middle;\n",
       "    }\n",
       "\n",
       "    .dataframe tbody tr th {\n",
       "        vertical-align: top;\n",
       "    }\n",
       "\n",
       "    .dataframe thead th {\n",
       "        text-align: right;\n",
       "    }\n",
       "</style>\n",
       "<table border=\"1\" class=\"dataframe\">\n",
       "  <thead>\n",
       "    <tr style=\"text-align: right;\">\n",
       "      <th></th>\n",
       "      <th>AREA</th>\n",
       "      <th>PERIMETER</th>\n",
       "      <th>MAJOR_AXIS</th>\n",
       "      <th>MINOR_AXIS</th>\n",
       "      <th>ECCENTRICITY</th>\n",
       "      <th>EQDIASQ</th>\n",
       "      <th>CONVEX_AREA</th>\n",
       "      <th>EXTENT</th>\n",
       "      <th>ROUNDNESS</th>\n",
       "      <th>COMPACTNESS</th>\n",
       "      <th>...</th>\n",
       "      <th>KurtosisRR</th>\n",
       "      <th>KurtosisRG</th>\n",
       "      <th>KurtosisRB</th>\n",
       "      <th>EntropyRR</th>\n",
       "      <th>EntropyRG</th>\n",
       "      <th>EntropyRB</th>\n",
       "      <th>ALLdaub4RR</th>\n",
       "      <th>ALLdaub4RG</th>\n",
       "      <th>ALLdaub4RB</th>\n",
       "      <th>Class</th>\n",
       "    </tr>\n",
       "  </thead>\n",
       "  <tbody>\n",
       "    <tr>\n",
       "      <th>0</th>\n",
       "      <td>138167</td>\n",
       "      <td>1370.2080</td>\n",
       "      <td>498.7525</td>\n",
       "      <td>353.9258</td>\n",
       "      <td>0.7046</td>\n",
       "      <td>419.4278</td>\n",
       "      <td>139208</td>\n",
       "      <td>0.7316</td>\n",
       "      <td>0.9248</td>\n",
       "      <td>0.8410</td>\n",
       "      <td>...</td>\n",
       "      <td>2.5951</td>\n",
       "      <td>3.7693</td>\n",
       "      <td>2.8701</td>\n",
       "      <td>-10381501440</td>\n",
       "      <td>-9775930368</td>\n",
       "      <td>-11240395776</td>\n",
       "      <td>43.0708</td>\n",
       "      <td>42.1130</td>\n",
       "      <td>45.2595</td>\n",
       "      <td>DOKOL</td>\n",
       "    </tr>\n",
       "    <tr>\n",
       "      <th>1</th>\n",
       "      <td>138362</td>\n",
       "      <td>1411.1870</td>\n",
       "      <td>525.3536</td>\n",
       "      <td>336.4710</td>\n",
       "      <td>0.7680</td>\n",
       "      <td>419.7237</td>\n",
       "      <td>140663</td>\n",
       "      <td>0.7797</td>\n",
       "      <td>0.8731</td>\n",
       "      <td>0.7989</td>\n",
       "      <td>...</td>\n",
       "      <td>3.6927</td>\n",
       "      <td>3.7615</td>\n",
       "      <td>2.4843</td>\n",
       "      <td>-24282138624</td>\n",
       "      <td>-23951843328</td>\n",
       "      <td>-21570297856</td>\n",
       "      <td>65.0882</td>\n",
       "      <td>65.4412</td>\n",
       "      <td>62.1085</td>\n",
       "      <td>DOKOL</td>\n",
       "    </tr>\n",
       "    <tr>\n",
       "      <th>2</th>\n",
       "      <td>160562</td>\n",
       "      <td>1514.4480</td>\n",
       "      <td>570.1646</td>\n",
       "      <td>359.9110</td>\n",
       "      <td>0.7756</td>\n",
       "      <td>452.1436</td>\n",
       "      <td>161971</td>\n",
       "      <td>0.7854</td>\n",
       "      <td>0.8797</td>\n",
       "      <td>0.7930</td>\n",
       "      <td>...</td>\n",
       "      <td>3.1097</td>\n",
       "      <td>2.8883</td>\n",
       "      <td>2.3741</td>\n",
       "      <td>-28332498944</td>\n",
       "      <td>-30146041856</td>\n",
       "      <td>-22212888576</td>\n",
       "      <td>64.7667</td>\n",
       "      <td>67.6564</td>\n",
       "      <td>58.5080</td>\n",
       "      <td>DOKOL</td>\n",
       "    </tr>\n",
       "    <tr>\n",
       "      <th>3</th>\n",
       "      <td>208042</td>\n",
       "      <td>1725.8110</td>\n",
       "      <td>649.4158</td>\n",
       "      <td>411.8994</td>\n",
       "      <td>0.7731</td>\n",
       "      <td>514.6721</td>\n",
       "      <td>209753</td>\n",
       "      <td>0.7331</td>\n",
       "      <td>0.8778</td>\n",
       "      <td>0.7925</td>\n",
       "      <td>...</td>\n",
       "      <td>2.2060</td>\n",
       "      <td>2.2021</td>\n",
       "      <td>2.7079</td>\n",
       "      <td>-24241860608</td>\n",
       "      <td>-18904291328</td>\n",
       "      <td>-16004977664</td>\n",
       "      <td>52.3850</td>\n",
       "      <td>46.5880</td>\n",
       "      <td>43.6055</td>\n",
       "      <td>DOKOL</td>\n",
       "    </tr>\n",
       "    <tr>\n",
       "      <th>4</th>\n",
       "      <td>143391</td>\n",
       "      <td>1416.6060</td>\n",
       "      <td>544.4253</td>\n",
       "      <td>335.9414</td>\n",
       "      <td>0.7869</td>\n",
       "      <td>427.2834</td>\n",
       "      <td>144211</td>\n",
       "      <td>0.7796</td>\n",
       "      <td>0.8979</td>\n",
       "      <td>0.7848</td>\n",
       "      <td>...</td>\n",
       "      <td>3.1254</td>\n",
       "      <td>2.5324</td>\n",
       "      <td>2.2916</td>\n",
       "      <td>-19697719296</td>\n",
       "      <td>-18499430400</td>\n",
       "      <td>-16122652672</td>\n",
       "      <td>57.7764</td>\n",
       "      <td>56.6723</td>\n",
       "      <td>52.4780</td>\n",
       "      <td>DOKOL</td>\n",
       "    </tr>\n",
       "    <tr>\n",
       "      <th>...</th>\n",
       "      <td>...</td>\n",
       "      <td>...</td>\n",
       "      <td>...</td>\n",
       "      <td>...</td>\n",
       "      <td>...</td>\n",
       "      <td>...</td>\n",
       "      <td>...</td>\n",
       "      <td>...</td>\n",
       "      <td>...</td>\n",
       "      <td>...</td>\n",
       "      <td>...</td>\n",
       "      <td>...</td>\n",
       "      <td>...</td>\n",
       "      <td>...</td>\n",
       "      <td>...</td>\n",
       "      <td>...</td>\n",
       "      <td>...</td>\n",
       "      <td>...</td>\n",
       "      <td>...</td>\n",
       "      <td>...</td>\n",
       "      <td>...</td>\n",
       "    </tr>\n",
       "    <tr>\n",
       "      <th>564</th>\n",
       "      <td>403926</td>\n",
       "      <td>2464.7891</td>\n",
       "      <td>843.9724</td>\n",
       "      <td>625.0685</td>\n",
       "      <td>0.6719</td>\n",
       "      <td>717.1433</td>\n",
       "      <td>417345</td>\n",
       "      <td>0.7473</td>\n",
       "      <td>0.8355</td>\n",
       "      <td>0.8497</td>\n",
       "      <td>...</td>\n",
       "      <td>2.9423</td>\n",
       "      <td>2.7913</td>\n",
       "      <td>2.8928</td>\n",
       "      <td>-64620326912</td>\n",
       "      <td>-64315211776</td>\n",
       "      <td>-50441998336</td>\n",
       "      <td>61.9725</td>\n",
       "      <td>62.4023</td>\n",
       "      <td>55.8575</td>\n",
       "      <td>ROTANA</td>\n",
       "    </tr>\n",
       "    <tr>\n",
       "      <th>565</th>\n",
       "      <td>350033</td>\n",
       "      <td>2232.9929</td>\n",
       "      <td>801.6467</td>\n",
       "      <td>558.6144</td>\n",
       "      <td>0.7172</td>\n",
       "      <td>667.5896</td>\n",
       "      <td>354582</td>\n",
       "      <td>0.7811</td>\n",
       "      <td>0.8822</td>\n",
       "      <td>0.8328</td>\n",
       "      <td>...</td>\n",
       "      <td>2.9258</td>\n",
       "      <td>2.9342</td>\n",
       "      <td>2.7258</td>\n",
       "      <td>-45076750336</td>\n",
       "      <td>-44132519936</td>\n",
       "      <td>-41153667072</td>\n",
       "      <td>55.8484</td>\n",
       "      <td>55.3751</td>\n",
       "      <td>52.8024</td>\n",
       "      <td>ROTANA</td>\n",
       "    </tr>\n",
       "    <tr>\n",
       "      <th>566</th>\n",
       "      <td>362994</td>\n",
       "      <td>2338.2161</td>\n",
       "      <td>834.3950</td>\n",
       "      <td>563.8201</td>\n",
       "      <td>0.7372</td>\n",
       "      <td>679.8370</td>\n",
       "      <td>374179</td>\n",
       "      <td>0.7485</td>\n",
       "      <td>0.8343</td>\n",
       "      <td>0.8148</td>\n",
       "      <td>...</td>\n",
       "      <td>2.8208</td>\n",
       "      <td>2.5208</td>\n",
       "      <td>2.7611</td>\n",
       "      <td>-46934614016</td>\n",
       "      <td>-42761355264</td>\n",
       "      <td>-35653304320</td>\n",
       "      <td>55.8311</td>\n",
       "      <td>53.4965</td>\n",
       "      <td>49.1414</td>\n",
       "      <td>ROTANA</td>\n",
       "    </tr>\n",
       "    <tr>\n",
       "      <th>567</th>\n",
       "      <td>468855</td>\n",
       "      <td>2620.2681</td>\n",
       "      <td>918.2051</td>\n",
       "      <td>662.6828</td>\n",
       "      <td>0.6922</td>\n",
       "      <td>772.6349</td>\n",
       "      <td>476855</td>\n",
       "      <td>0.7408</td>\n",
       "      <td>0.8581</td>\n",
       "      <td>0.8415</td>\n",
       "      <td>...</td>\n",
       "      <td>3.4798</td>\n",
       "      <td>3.3067</td>\n",
       "      <td>2.7802</td>\n",
       "      <td>-93124485120</td>\n",
       "      <td>-84190658560</td>\n",
       "      <td>-78581514240</td>\n",
       "      <td>68.8965</td>\n",
       "      <td>66.2911</td>\n",
       "      <td>63.6946</td>\n",
       "      <td>ROTANA</td>\n",
       "    </tr>\n",
       "    <tr>\n",
       "      <th>568</th>\n",
       "      <td>388951</td>\n",
       "      <td>2422.0439</td>\n",
       "      <td>781.0228</td>\n",
       "      <td>640.3862</td>\n",
       "      <td>0.5725</td>\n",
       "      <td>703.7242</td>\n",
       "      <td>397626</td>\n",
       "      <td>0.7187</td>\n",
       "      <td>0.8332</td>\n",
       "      <td>0.9010</td>\n",
       "      <td>...</td>\n",
       "      <td>3.2728</td>\n",
       "      <td>3.0089</td>\n",
       "      <td>3.6516</td>\n",
       "      <td>-56895959040</td>\n",
       "      <td>-56263233536</td>\n",
       "      <td>-47816683520</td>\n",
       "      <td>60.1564</td>\n",
       "      <td>60.1600</td>\n",
       "      <td>55.5876</td>\n",
       "      <td>ROTANA</td>\n",
       "    </tr>\n",
       "  </tbody>\n",
       "</table>\n",
       "<p>569 rows × 32 columns</p>\n",
       "</div>"
      ],
      "text/plain": [
       "       AREA  PERIMETER  MAJOR_AXIS  MINOR_AXIS  ECCENTRICITY   EQDIASQ  \\\n",
       "0    138167  1370.2080    498.7525    353.9258        0.7046  419.4278   \n",
       "1    138362  1411.1870    525.3536    336.4710        0.7680  419.7237   \n",
       "2    160562  1514.4480    570.1646    359.9110        0.7756  452.1436   \n",
       "3    208042  1725.8110    649.4158    411.8994        0.7731  514.6721   \n",
       "4    143391  1416.6060    544.4253    335.9414        0.7869  427.2834   \n",
       "..      ...        ...         ...         ...           ...       ...   \n",
       "564  403926  2464.7891    843.9724    625.0685        0.6719  717.1433   \n",
       "565  350033  2232.9929    801.6467    558.6144        0.7172  667.5896   \n",
       "566  362994  2338.2161    834.3950    563.8201        0.7372  679.8370   \n",
       "567  468855  2620.2681    918.2051    662.6828        0.6922  772.6349   \n",
       "568  388951  2422.0439    781.0228    640.3862        0.5725  703.7242   \n",
       "\n",
       "     CONVEX_AREA  EXTENT  ROUNDNESS  COMPACTNESS  ...  KurtosisRR  KurtosisRG  \\\n",
       "0         139208  0.7316     0.9248       0.8410  ...      2.5951      3.7693   \n",
       "1         140663  0.7797     0.8731       0.7989  ...      3.6927      3.7615   \n",
       "2         161971  0.7854     0.8797       0.7930  ...      3.1097      2.8883   \n",
       "3         209753  0.7331     0.8778       0.7925  ...      2.2060      2.2021   \n",
       "4         144211  0.7796     0.8979       0.7848  ...      3.1254      2.5324   \n",
       "..           ...     ...        ...          ...  ...         ...         ...   \n",
       "564       417345  0.7473     0.8355       0.8497  ...      2.9423      2.7913   \n",
       "565       354582  0.7811     0.8822       0.8328  ...      2.9258      2.9342   \n",
       "566       374179  0.7485     0.8343       0.8148  ...      2.8208      2.5208   \n",
       "567       476855  0.7408     0.8581       0.8415  ...      3.4798      3.3067   \n",
       "568       397626  0.7187     0.8332       0.9010  ...      3.2728      3.0089   \n",
       "\n",
       "     KurtosisRB    EntropyRR    EntropyRG    EntropyRB  ALLdaub4RR  \\\n",
       "0        2.8701 -10381501440  -9775930368 -11240395776     43.0708   \n",
       "1        2.4843 -24282138624 -23951843328 -21570297856     65.0882   \n",
       "2        2.3741 -28332498944 -30146041856 -22212888576     64.7667   \n",
       "3        2.7079 -24241860608 -18904291328 -16004977664     52.3850   \n",
       "4        2.2916 -19697719296 -18499430400 -16122652672     57.7764   \n",
       "..          ...          ...          ...          ...         ...   \n",
       "564      2.8928 -64620326912 -64315211776 -50441998336     61.9725   \n",
       "565      2.7258 -45076750336 -44132519936 -41153667072     55.8484   \n",
       "566      2.7611 -46934614016 -42761355264 -35653304320     55.8311   \n",
       "567      2.7802 -93124485120 -84190658560 -78581514240     68.8965   \n",
       "568      3.6516 -56895959040 -56263233536 -47816683520     60.1564   \n",
       "\n",
       "     ALLdaub4RG  ALLdaub4RB   Class  \n",
       "0       42.1130     45.2595   DOKOL  \n",
       "1       65.4412     62.1085   DOKOL  \n",
       "2       67.6564     58.5080   DOKOL  \n",
       "3       46.5880     43.6055   DOKOL  \n",
       "4       56.6723     52.4780   DOKOL  \n",
       "..          ...         ...     ...  \n",
       "564     62.4023     55.8575  ROTANA  \n",
       "565     55.3751     52.8024  ROTANA  \n",
       "566     53.4965     49.1414  ROTANA  \n",
       "567     66.2911     63.6946  ROTANA  \n",
       "568     60.1600     55.5876  ROTANA  \n",
       "\n",
       "[569 rows x 32 columns]"
      ]
     },
     "execution_count": 55,
     "metadata": {},
     "output_type": "execute_result"
    }
   ],
   "source": [
    "frutas_1_re"
   ]
  },
  {
   "cell_type": "code",
   "execution_count": 56,
   "metadata": {},
   "outputs": [
    {
     "data": {
      "text/plain": [
       "AREA             1.000000\n",
       "PERIMETER        0.967217\n",
       "MAJOR_AXIS       0.905404\n",
       "MINOR_AXIS       0.956622\n",
       "ECCENTRICITY    -0.139044\n",
       "EQDIASQ          0.994097\n",
       "CONVEX_AREA      0.999433\n",
       "EXTENT          -0.265024\n",
       "ROUNDNESS       -0.252680\n",
       "COMPACTNESS      0.099353\n",
       "SHAPEFACTOR_2   -0.887785\n",
       "SHAPEFACTOR_3    0.094351\n",
       "SHAPEFACTOR_4   -0.108770\n",
       "MeanRR          -0.335034\n",
       "MeanRG          -0.379900\n",
       "MeanRB          -0.331656\n",
       "StdDevRR        -0.310873\n",
       "StdDevRG        -0.080195\n",
       "StdDevRB        -0.161998\n",
       "SkewRR           0.378678\n",
       "SkewRG           0.352431\n",
       "SkewRB           0.214986\n",
       "KurtosisRR       0.198848\n",
       "KurtosisRG       0.287108\n",
       "KurtosisRB       0.189127\n",
       "EntropyRR       -0.393740\n",
       "EntropyRG       -0.404216\n",
       "EntropyRB       -0.534054\n",
       "ALLdaub4RR      -0.335028\n",
       "ALLdaub4RG      -0.379915\n",
       "ALLdaub4RB      -0.331696\n",
       "Name: AREA, dtype: float64"
      ]
     },
     "execution_count": 56,
     "metadata": {},
     "output_type": "execute_result"
    }
   ],
   "source": [
    "frutas_1_re.corr()['AREA']"
   ]
  },
  {
   "cell_type": "code",
   "execution_count": 57,
   "metadata": {},
   "outputs": [],
   "source": [
    "frutas_1_re.drop(['PERIMETER','MAJOR_AXIS','MINOR_AXIS','EQDIASQ','CONVEX_AREA','SHAPEFACTOR_2'],axis=1,inplace=True)"
   ]
  },
  {
   "cell_type": "code",
   "execution_count": 58,
   "metadata": {},
   "outputs": [
    {
     "data": {
      "text/html": [
       "<div>\n",
       "<style scoped>\n",
       "    .dataframe tbody tr th:only-of-type {\n",
       "        vertical-align: middle;\n",
       "    }\n",
       "\n",
       "    .dataframe tbody tr th {\n",
       "        vertical-align: top;\n",
       "    }\n",
       "\n",
       "    .dataframe thead th {\n",
       "        text-align: right;\n",
       "    }\n",
       "</style>\n",
       "<table border=\"1\" class=\"dataframe\">\n",
       "  <thead>\n",
       "    <tr style=\"text-align: right;\">\n",
       "      <th></th>\n",
       "      <th>AREA</th>\n",
       "      <th>ECCENTRICITY</th>\n",
       "      <th>EXTENT</th>\n",
       "      <th>ROUNDNESS</th>\n",
       "      <th>COMPACTNESS</th>\n",
       "      <th>SHAPEFACTOR_3</th>\n",
       "      <th>SHAPEFACTOR_4</th>\n",
       "      <th>MeanRR</th>\n",
       "      <th>MeanRG</th>\n",
       "      <th>MeanRB</th>\n",
       "      <th>...</th>\n",
       "      <th>KurtosisRR</th>\n",
       "      <th>KurtosisRG</th>\n",
       "      <th>KurtosisRB</th>\n",
       "      <th>EntropyRR</th>\n",
       "      <th>EntropyRG</th>\n",
       "      <th>EntropyRB</th>\n",
       "      <th>ALLdaub4RR</th>\n",
       "      <th>ALLdaub4RG</th>\n",
       "      <th>ALLdaub4RB</th>\n",
       "      <th>Class</th>\n",
       "    </tr>\n",
       "  </thead>\n",
       "  <tbody>\n",
       "    <tr>\n",
       "      <th>0</th>\n",
       "      <td>138167</td>\n",
       "      <td>0.7046</td>\n",
       "      <td>0.7316</td>\n",
       "      <td>0.9248</td>\n",
       "      <td>0.8410</td>\n",
       "      <td>0.7072</td>\n",
       "      <td>0.9966</td>\n",
       "      <td>86.1304</td>\n",
       "      <td>84.2102</td>\n",
       "      <td>90.5056</td>\n",
       "      <td>...</td>\n",
       "      <td>2.5951</td>\n",
       "      <td>3.7693</td>\n",
       "      <td>2.8701</td>\n",
       "      <td>-10381501440</td>\n",
       "      <td>-9775930368</td>\n",
       "      <td>-11240395776</td>\n",
       "      <td>43.0708</td>\n",
       "      <td>42.1130</td>\n",
       "      <td>45.2595</td>\n",
       "      <td>DOKOL</td>\n",
       "    </tr>\n",
       "    <tr>\n",
       "      <th>1</th>\n",
       "      <td>138362</td>\n",
       "      <td>0.7680</td>\n",
       "      <td>0.7797</td>\n",
       "      <td>0.8731</td>\n",
       "      <td>0.7989</td>\n",
       "      <td>0.6383</td>\n",
       "      <td>0.9966</td>\n",
       "      <td>130.1720</td>\n",
       "      <td>130.8726</td>\n",
       "      <td>124.2082</td>\n",
       "      <td>...</td>\n",
       "      <td>3.6927</td>\n",
       "      <td>3.7615</td>\n",
       "      <td>2.4843</td>\n",
       "      <td>-24282138624</td>\n",
       "      <td>-23951843328</td>\n",
       "      <td>-21570297856</td>\n",
       "      <td>65.0882</td>\n",
       "      <td>65.4412</td>\n",
       "      <td>62.1085</td>\n",
       "      <td>DOKOL</td>\n",
       "    </tr>\n",
       "    <tr>\n",
       "      <th>2</th>\n",
       "      <td>160562</td>\n",
       "      <td>0.7756</td>\n",
       "      <td>0.7854</td>\n",
       "      <td>0.8797</td>\n",
       "      <td>0.7930</td>\n",
       "      <td>0.6289</td>\n",
       "      <td>0.9962</td>\n",
       "      <td>129.5311</td>\n",
       "      <td>135.3102</td>\n",
       "      <td>117.0099</td>\n",
       "      <td>...</td>\n",
       "      <td>3.1097</td>\n",
       "      <td>2.8883</td>\n",
       "      <td>2.3741</td>\n",
       "      <td>-28332498944</td>\n",
       "      <td>-30146041856</td>\n",
       "      <td>-22212888576</td>\n",
       "      <td>64.7667</td>\n",
       "      <td>67.6564</td>\n",
       "      <td>58.5080</td>\n",
       "      <td>DOKOL</td>\n",
       "    </tr>\n",
       "    <tr>\n",
       "      <th>3</th>\n",
       "      <td>208042</td>\n",
       "      <td>0.7731</td>\n",
       "      <td>0.7331</td>\n",
       "      <td>0.8778</td>\n",
       "      <td>0.7925</td>\n",
       "      <td>0.6281</td>\n",
       "      <td>0.9903</td>\n",
       "      <td>104.7724</td>\n",
       "      <td>93.1733</td>\n",
       "      <td>87.2115</td>\n",
       "      <td>...</td>\n",
       "      <td>2.2060</td>\n",
       "      <td>2.2021</td>\n",
       "      <td>2.7079</td>\n",
       "      <td>-24241860608</td>\n",
       "      <td>-18904291328</td>\n",
       "      <td>-16004977664</td>\n",
       "      <td>52.3850</td>\n",
       "      <td>46.5880</td>\n",
       "      <td>43.6055</td>\n",
       "      <td>DOKOL</td>\n",
       "    </tr>\n",
       "    <tr>\n",
       "      <th>4</th>\n",
       "      <td>143391</td>\n",
       "      <td>0.7869</td>\n",
       "      <td>0.7796</td>\n",
       "      <td>0.8979</td>\n",
       "      <td>0.7848</td>\n",
       "      <td>0.6160</td>\n",
       "      <td>0.9982</td>\n",
       "      <td>115.5527</td>\n",
       "      <td>113.3419</td>\n",
       "      <td>104.9527</td>\n",
       "      <td>...</td>\n",
       "      <td>3.1254</td>\n",
       "      <td>2.5324</td>\n",
       "      <td>2.2916</td>\n",
       "      <td>-19697719296</td>\n",
       "      <td>-18499430400</td>\n",
       "      <td>-16122652672</td>\n",
       "      <td>57.7764</td>\n",
       "      <td>56.6723</td>\n",
       "      <td>52.4780</td>\n",
       "      <td>DOKOL</td>\n",
       "    </tr>\n",
       "  </tbody>\n",
       "</table>\n",
       "<p>5 rows × 26 columns</p>\n",
       "</div>"
      ],
      "text/plain": [
       "     AREA  ECCENTRICITY  EXTENT  ROUNDNESS  COMPACTNESS  SHAPEFACTOR_3  \\\n",
       "0  138167        0.7046  0.7316     0.9248       0.8410         0.7072   \n",
       "1  138362        0.7680  0.7797     0.8731       0.7989         0.6383   \n",
       "2  160562        0.7756  0.7854     0.8797       0.7930         0.6289   \n",
       "3  208042        0.7731  0.7331     0.8778       0.7925         0.6281   \n",
       "4  143391        0.7869  0.7796     0.8979       0.7848         0.6160   \n",
       "\n",
       "   SHAPEFACTOR_4    MeanRR    MeanRG    MeanRB  ...  KurtosisRR  KurtosisRG  \\\n",
       "0         0.9966   86.1304   84.2102   90.5056  ...      2.5951      3.7693   \n",
       "1         0.9966  130.1720  130.8726  124.2082  ...      3.6927      3.7615   \n",
       "2         0.9962  129.5311  135.3102  117.0099  ...      3.1097      2.8883   \n",
       "3         0.9903  104.7724   93.1733   87.2115  ...      2.2060      2.2021   \n",
       "4         0.9982  115.5527  113.3419  104.9527  ...      3.1254      2.5324   \n",
       "\n",
       "   KurtosisRB    EntropyRR    EntropyRG    EntropyRB  ALLdaub4RR  ALLdaub4RG  \\\n",
       "0      2.8701 -10381501440  -9775930368 -11240395776     43.0708     42.1130   \n",
       "1      2.4843 -24282138624 -23951843328 -21570297856     65.0882     65.4412   \n",
       "2      2.3741 -28332498944 -30146041856 -22212888576     64.7667     67.6564   \n",
       "3      2.7079 -24241860608 -18904291328 -16004977664     52.3850     46.5880   \n",
       "4      2.2916 -19697719296 -18499430400 -16122652672     57.7764     56.6723   \n",
       "\n",
       "   ALLdaub4RB  Class  \n",
       "0     45.2595  DOKOL  \n",
       "1     62.1085  DOKOL  \n",
       "2     58.5080  DOKOL  \n",
       "3     43.6055  DOKOL  \n",
       "4     52.4780  DOKOL  \n",
       "\n",
       "[5 rows x 26 columns]"
      ]
     },
     "execution_count": 58,
     "metadata": {},
     "output_type": "execute_result"
    }
   ],
   "source": [
    "frutas_1_re.head()"
   ]
  },
  {
   "cell_type": "code",
   "execution_count": 59,
   "metadata": {},
   "outputs": [
    {
     "data": {
      "text/plain": [
       "array(['AREA', 'SHAPEFACTOR_4', 'MeanRR', 'MeanRG', 'MeanRB', 'SkewRG',\n",
       "       'EntropyRR', 'EntropyRG', 'EntropyRB', 'ALLdaub4RR', 'ALLdaub4RG',\n",
       "       'ALLdaub4RB'], dtype=object)"
      ]
     },
     "execution_count": 59,
     "metadata": {},
     "output_type": "execute_result"
    }
   ],
   "source": [
    "#fazendo rfe\n",
    "from sklearn.feature_selection import RFE\n",
    "x_re_1 = frutas_1_re.drop(['Class'],axis=1)\n",
    "y_re_1 = frutas_1_re.Class\n",
    "selector = RandomForestClassifier()\n",
    "select = RFE(selector, n_features_to_select=12, step=1)\n",
    "select = select.fit(x_re_1, y_re_1)\n",
    "select.get_feature_names_out()"
   ]
  },
  {
   "cell_type": "code",
   "execution_count": 60,
   "metadata": {},
   "outputs": [],
   "source": [
    "x_12 = frutas_1_re[['AREA', 'SHAPEFACTOR_4', 'MeanRR', 'MeanRG', 'MeanRB', 'SkewRG',\n",
    "       'KurtosisRG', 'EntropyRR', 'EntropyRG', 'EntropyRB', 'ALLdaub4RR',\n",
    "       'ALLdaub4RG']]\n",
    "y_12 = frutas_1_re.Class"
   ]
  },
  {
   "cell_type": "code",
   "execution_count": 61,
   "metadata": {},
   "outputs": [],
   "source": [
    "x_12_std = StandardScaler().fit_transform(x_12)"
   ]
  },
  {
   "cell_type": "code",
   "execution_count": 62,
   "metadata": {},
   "outputs": [
    {
     "name": "stdout",
     "output_type": "stream",
     "text": [
      "- fit_time:\n",
      "-- [1.05848312 0.64142752 0.8842411  0.46794009 1.07892299 0.55063081\n",
      " 0.57453418 0.58303356]\n",
      "-- 0.7299016714096069 +- 0.22580445006278885\n",
      "\n",
      "- score_time:\n",
      "-- [0.05435562 0.08598161 0.05327582 0.09370112 0.13807487 0.06677461\n",
      " 0.054883   0.08248377]\n",
      "-- 0.07869130373001099 +- 0.026847368255546795\n",
      "\n",
      "- test_accuracy:\n",
      "-- [0.98611111 1.         0.98591549 1.         1.         0.98591549\n",
      " 1.         1.        ]\n",
      "-- 0.9947427621283256 +- 0.006787299826694057\n",
      "\n",
      "- test_precision_macro:\n",
      "-- [0.98765432 1.         0.98717949 1.         1.         0.98484848\n",
      " 1.         1.        ]\n",
      "-- 0.9949602866269533 +- 0.006549428062660059\n",
      "\n",
      "- test_recall_macro:\n",
      "-- [0.98666667 1.         0.98717949 1.         1.         0.98666667\n",
      " 1.         1.        ]\n",
      "-- 0.9950641025641026 +- 0.006373935563634297\n",
      "\n"
     ]
    }
   ],
   "source": [
    "random_for3 = RandomForestClassifier()\n",
    "metricas_for3 = cross_validate(random_for3, x_12_std, y, cv=8, scoring=nome_metricas)\n",
    "for met in metricas_for3:\n",
    "    print(f\"- {met}:\")\n",
    "    print(f\"-- {metricas_for3[met]}\")\n",
    "    print(f\"-- {np.mean(metricas_for3[met])} +- {np.std(metricas_for3[met])}\\n\")  "
   ]
  },
  {
   "cell_type": "code",
   "execution_count": 63,
   "metadata": {},
   "outputs": [
    {
     "name": "stdout",
     "output_type": "stream",
     "text": [
      "- fit_time:\n",
      "-- [0.01175404 0.01386905 0.01526642 0.01552701 0.01715422 0.01627898\n",
      " 0.01562262 0.01151752]\n",
      "-- 0.0146237313747406 +- 0.001930775763201685\n",
      "\n",
      "- score_time:\n",
      "-- [0.02266717 0.01677346 0.01589632 0.02021194 0.07679439 0.01930404\n",
      " 0.04954982 0.02042603]\n",
      "-- 0.030202895402908325 +- 0.020313409156899023\n",
      "\n",
      "- test_accuracy:\n",
      "-- [0.98611111 0.98591549 0.98591549 1.         1.         0.98591549\n",
      " 1.         1.        ]\n",
      "-- 0.9929821987480438 +- 0.007018056845934144\n",
      "\n",
      "- test_precision_macro:\n",
      "-- [0.98765432 0.98717949 0.98717949 1.         1.         0.98717949\n",
      " 1.         1.        ]\n",
      "-- 0.9936490978157645 +- 0.0063525661034424955\n",
      "\n",
      "- test_recall_macro:\n",
      "-- [0.98666667 0.98717949 0.98717949 1.         1.         0.98666667\n",
      " 1.         1.        ]\n",
      "-- 0.9934615384615385 +- 0.006540974881448237\n",
      "\n"
     ]
    }
   ],
   "source": [
    "naive_ba3 = GaussianNB()\n",
    "metricas_ba3 = cross_validate(naive_ba3, x_12_std, y, cv=8, scoring=nome_metricas)\n",
    "for met in metricas_ba3:\n",
    "    print(f\"- {met}:\")\n",
    "    print(f\"-- {metricas_ba3[met]}\")\n",
    "    print(f\"-- {np.mean(metricas_ba3[met])} +- {np.std(metricas_ba3[met])}\\n\")  "
   ]
  },
  {
   "cell_type": "code",
   "execution_count": 64,
   "metadata": {},
   "outputs": [
    {
     "name": "stdout",
     "output_type": "stream",
     "text": [
      "- fit_time:\n",
      "-- [0.01078463 0.00316954 0.00279617 0.01320863 0.00452352 0.01550794\n",
      " 0.01004052 0.01264191]\n",
      "-- 0.009084105491638184 +- 0.004610598359701536\n",
      "\n",
      "- score_time:\n",
      "-- [0.04151058 0.01791382 0.02395391 0.0287497  0.05737758 0.04415703\n",
      " 0.04336596 0.01859283]\n",
      "-- 0.03445267677307129 +- 0.013307903553700004\n",
      "\n",
      "- test_accuracy:\n",
      "-- [0.98611111 0.97183099 1.         1.         1.         1.\n",
      " 1.         1.        ]\n",
      "-- 0.9947427621283256 +- 0.009780632576334892\n",
      "\n",
      "- test_precision_macro:\n",
      "-- [0.98765432 0.96969697 1.         1.         1.         1.\n",
      " 1.         1.        ]\n",
      "-- 0.994668911335578 +- 0.010267213503665534\n",
      "\n",
      "- test_recall_macro:\n",
      "-- [0.98666667 0.97435897 1.         1.         1.         1.\n",
      " 1.         1.        ]\n",
      "-- 0.9951282051282051 +- 0.008981681993916378\n",
      "\n"
     ]
    }
   ],
   "source": [
    "knn3 = KNeighborsClassifier()\n",
    "metricas_knn3 = cross_validate(knn3, x_12_std, y, cv=8, scoring=nome_metricas)\n",
    "for met in metricas_knn3:\n",
    "    print(f\"- {met}:\")\n",
    "    print(f\"-- {metricas_knn3[met]}\")\n",
    "    print(f\"-- {np.mean(metricas_knn3[met])} +- {np.std(metricas_knn3[met])}\\n\")  "
   ]
  },
  {
   "cell_type": "markdown",
   "metadata": {},
   "source": [
    "Agora aplicando para as frutas 2"
   ]
  },
  {
   "cell_type": "code",
   "execution_count": 65,
   "metadata": {},
   "outputs": [],
   "source": [
    "frutas_2_re.drop(['PERIMETER','MAJOR_AXIS','MINOR_AXIS','EQDIASQ','CONVEX_AREA','SHAPEFACTOR_2'],axis=1,inplace=True)"
   ]
  },
  {
   "cell_type": "code",
   "execution_count": 66,
   "metadata": {},
   "outputs": [],
   "source": [
    "x_12_2 = frutas_2_re[['AREA', 'SHAPEFACTOR_4', 'MeanRR', 'MeanRG', 'MeanRB', 'SkewRG',\n",
    "       'KurtosisRG', 'EntropyRR', 'EntropyRG', 'EntropyRB', 'ALLdaub4RR',\n",
    "       'ALLdaub4RG']]\n",
    "y_12_2 = frutas_2_re.Class"
   ]
  },
  {
   "cell_type": "code",
   "execution_count": 67,
   "metadata": {},
   "outputs": [],
   "source": [
    "x_12_2_std = StandardScaler().fit_transform(x_12_2)"
   ]
  },
  {
   "cell_type": "code",
   "execution_count": 68,
   "metadata": {},
   "outputs": [],
   "source": [
    "x3_treino, x3_teste, y3_treino, y3_teste = train_test_split(x_12_2_std,y_12_2,test_size=0.3,random_state=10)"
   ]
  },
  {
   "cell_type": "code",
   "execution_count": 69,
   "metadata": {},
   "outputs": [],
   "source": [
    "random_for4 = RandomForestClassifier()\n",
    "random_for4.fit(x3_treino,y3_treino)\n",
    "y3_pred_f = random_for4.predict(x3_teste)"
   ]
  },
  {
   "cell_type": "code",
   "execution_count": 84,
   "metadata": {},
   "outputs": [
    {
     "name": "stdout",
     "output_type": "stream",
     "text": [
      "[[11  0  4  0]\n",
      " [ 0 19  0  7]\n",
      " [ 2  0 23  0]\n",
      " [ 0  4  0 29]]\n"
     ]
    }
   ],
   "source": [
    "cf2_rf = confusion_matrix(y3_teste,y3_pred_f)\n",
    "print(cf2_rf)"
   ]
  },
  {
   "cell_type": "code",
   "execution_count": 71,
   "metadata": {},
   "outputs": [
    {
     "name": "stdout",
     "output_type": "stream",
     "text": [
      "              precision    recall  f1-score   support\n",
      "\n",
      "       BERHI       0.85      0.73      0.79        15\n",
      "      DEGLET       0.83      0.73      0.78        26\n",
      "       IRAQI       0.85      0.92      0.88        25\n",
      "       SOGAY       0.81      0.88      0.84        33\n",
      "\n",
      "    accuracy                           0.83        99\n",
      "   macro avg       0.83      0.82      0.82        99\n",
      "weighted avg       0.83      0.83      0.83        99\n",
      "\n"
     ]
    }
   ],
   "source": [
    "print(classification_report(y3_teste,y3_pred_f))"
   ]
  },
  {
   "cell_type": "code",
   "execution_count": 75,
   "metadata": {},
   "outputs": [],
   "source": [
    "naive_ba4 = GaussianNB()\n",
    "naive_ba4.fit(x3_treino,y3_treino)\n",
    "y3_pred_na = naive_ba4.predict(x3_teste)"
   ]
  },
  {
   "cell_type": "code",
   "execution_count": 87,
   "metadata": {},
   "outputs": [
    {
     "name": "stdout",
     "output_type": "stream",
     "text": [
      "[[ 9  0  6  0]\n",
      " [ 0 19  1  6]\n",
      " [ 1  0 24  0]\n",
      " [ 1  9  5 18]]\n"
     ]
    }
   ],
   "source": [
    "cf2_nb = confusion_matrix(y3_teste,y3_pred_na)\n",
    "print(cf2_nb)"
   ]
  },
  {
   "cell_type": "code",
   "execution_count": 77,
   "metadata": {},
   "outputs": [
    {
     "name": "stdout",
     "output_type": "stream",
     "text": [
      "              precision    recall  f1-score   support\n",
      "\n",
      "       BERHI       0.82      0.60      0.69        15\n",
      "      DEGLET       0.68      0.73      0.70        26\n",
      "       IRAQI       0.67      0.96      0.79        25\n",
      "       SOGAY       0.75      0.55      0.63        33\n",
      "\n",
      "    accuracy                           0.71        99\n",
      "   macro avg       0.73      0.71      0.70        99\n",
      "weighted avg       0.72      0.71      0.70        99\n",
      "\n"
     ]
    }
   ],
   "source": [
    "print(classification_report(y3_teste,y3_pred_na))"
   ]
  },
  {
   "cell_type": "code",
   "execution_count": 78,
   "metadata": {},
   "outputs": [],
   "source": [
    "knn4 = KNeighborsClassifier()\n",
    "knn4.fit(x3_treino,y3_treino)\n",
    "y3_pred_knn = knn4.predict(x3_teste)"
   ]
  },
  {
   "cell_type": "code",
   "execution_count": 86,
   "metadata": {},
   "outputs": [
    {
     "name": "stdout",
     "output_type": "stream",
     "text": [
      "[[10  0  5  0]\n",
      " [ 0 20  0  6]\n",
      " [ 2  0 23  0]\n",
      " [ 1  4  0 28]]\n"
     ]
    }
   ],
   "source": [
    "cf2_knn = confusion_matrix(y3_teste,y3_pred_knn)\n",
    "print(cf2_knn)"
   ]
  },
  {
   "cell_type": "code",
   "execution_count": 80,
   "metadata": {},
   "outputs": [
    {
     "name": "stdout",
     "output_type": "stream",
     "text": [
      "              precision    recall  f1-score   support\n",
      "\n",
      "       BERHI       0.77      0.67      0.71        15\n",
      "      DEGLET       0.83      0.77      0.80        26\n",
      "       IRAQI       0.82      0.92      0.87        25\n",
      "       SOGAY       0.82      0.85      0.84        33\n",
      "\n",
      "    accuracy                           0.82        99\n",
      "   macro avg       0.81      0.80      0.80        99\n",
      "weighted avg       0.82      0.82      0.82        99\n",
      "\n"
     ]
    }
   ],
   "source": [
    "print(classification_report(y3_teste,y3_pred_knn))"
   ]
  },
  {
   "cell_type": "code",
   "execution_count": 101,
   "metadata": {},
   "outputs": [
    {
     "data": {
      "text/plain": [
       "Text(557.1588235294118, 0.5, 'Valor real')"
      ]
     },
     "execution_count": 101,
     "metadata": {},
     "output_type": "execute_result"
    },
    {
     "data": {
      "image/png": "[encoded data removed]",
      "text/plain": [
       "<Figure size 864x720 with 6 Axes>"
      ]
     },
     "metadata": {},
     "output_type": "display_data"
    }
   ],
   "source": [
    "plt.figure(figsize=(12,10))\n",
    "\n",
    "plt.subplot(1,3,1)\n",
    "plt.title('Random Forest')\n",
    "sns.heatmap(cf2_rf,annot=True)\n",
    "plt.xlabel('Valor predito')\n",
    "plt.ylabel('Valor real')\n",
    "\n",
    "plt.subplot(1,3,2)\n",
    "plt.title('Naive Bayes')\n",
    "sns.heatmap(cf2_nb,annot=True)\n",
    "plt.xlabel('Valor predito')\n",
    "plt.ylabel('Valor real')\n",
    "\n",
    "plt.subplot(1,3,3)\n",
    "plt.title('Knn')\n",
    "sns.heatmap(cf2_knn,annot=True)\n",
    "plt.xlabel('Valor predito')\n",
    "plt.ylabel('Valor real')"
   ]
  },
  {
   "cell_type": "code",
   "execution_count": 102,
   "metadata": {},
   "outputs": [
    {
     "name": "stdout",
     "output_type": "stream",
     "text": [
      "Métricas dos Modelos\n",
      "1 - Random Forest\n",
      "              precision    recall  f1-score   support\n",
      "\n",
      "       BERHI       0.85      0.73      0.79        15\n",
      "      DEGLET       0.83      0.73      0.78        26\n",
      "       IRAQI       0.85      0.92      0.88        25\n",
      "       SOGAY       0.81      0.88      0.84        33\n",
      "\n",
      "    accuracy                           0.83        99\n",
      "   macro avg       0.83      0.82      0.82        99\n",
      "weighted avg       0.83      0.83      0.83        99\n",
      "\n",
      "----------------------------------------\n",
      "2-Naive Bayes\n",
      "              precision    recall  f1-score   support\n",
      "\n",
      "       BERHI       0.82      0.60      0.69        15\n",
      "      DEGLET       0.68      0.73      0.70        26\n",
      "       IRAQI       0.67      0.96      0.79        25\n",
      "       SOGAY       0.75      0.55      0.63        33\n",
      "\n",
      "    accuracy                           0.71        99\n",
      "   macro avg       0.73      0.71      0.70        99\n",
      "weighted avg       0.72      0.71      0.70        99\n",
      "\n",
      "----------------------------------------\n",
      "3- Knn\n",
      "              precision    recall  f1-score   support\n",
      "\n",
      "       BERHI       0.77      0.67      0.71        15\n",
      "      DEGLET       0.83      0.77      0.80        26\n",
      "       IRAQI       0.82      0.92      0.87        25\n",
      "       SOGAY       0.82      0.85      0.84        33\n",
      "\n",
      "    accuracy                           0.82        99\n",
      "   macro avg       0.81      0.80      0.80        99\n",
      "weighted avg       0.82      0.82      0.82        99\n",
      "\n"
     ]
    }
   ],
   "source": [
    "print('Métricas dos Modelos')\n",
    "print('1 - Random Forest')\n",
    "print(classification_report(y3_teste,y3_pred_f))\n",
    "print('-'*40)\n",
    "print('2-Naive Bayes')\n",
    "print(classification_report(y3_teste,y3_pred_na))\n",
    "print('-'*40)\n",
    "print('3- Knn')\n",
    "print(classification_report(y3_teste,y3_pred_knn))"
   ]
  }
 ],
 "metadata": {
  "interpreter": {
   "hash": "47f325e4dc201893daa5bfc21d6e0550aa455e6eede69b1a58a5614a1365b691"
  },
  "kernelspec": {
   "display_name": "Python 3.9.7 ('base')",
   "language": "python",
   "name": "python3"
  },
  "language_info": {
   "codemirror_mode": {
    "name": "ipython",
    "version": 3
   },
   "file_extension": ".py",
   "mimetype": "text/x-python",
   "name": "python",
   "nbconvert_exporter": "python",
   "pygments_lexer": "ipython3",
   "version": "3.9.7"
  },
  "orig_nbformat": 4
 },
 "nbformat": 4,
 "nbformat_minor": 2
}
