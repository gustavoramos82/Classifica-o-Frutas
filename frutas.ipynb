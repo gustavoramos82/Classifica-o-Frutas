{
 "cells": [
  {
   "cell_type": "markdown",
   "metadata": {},
   "source": [
    "# Classificando as Frutas de Acordo com as Informações Apresentadas\n",
    "\n",
    "### Neste projeto temos uma medidas e a clssificação de uma fruta, dai queremos testar três possibilidades.\n",
    "\n",
    "1. Qual modelo performa melhor?\n",
    "\n",
    "2. Diminuindo as variaveis melhora o modelo? "
   ]
  },
  {
   "cell_type": "code",
   "execution_count": 1,
   "metadata": {},
   "outputs": [],
   "source": [
    "# Importando os módulos\n",
    "import numpy as np \n",
    "import pandas as pd \n",
    "import matplotlib.pyplot as plt \n",
    "import seaborn as sns \n",
    "import plotly.express as px"
   ]
  },
  {
   "cell_type": "markdown",
   "metadata": {},
   "source": [
    "O link do dataset pode ser encontrado [aqui](https://www.kaggle.com/datasets/muratkokludataset/date-fruit-datasets)"
   ]
  },
  {
   "cell_type": "code",
   "execution_count": 2,
   "metadata": {},
   "outputs": [],
   "source": [
    "frutas = pd.read_excel('/home/gustavo/Área de Trabalho/Proj notebooks/Date_Fruit_Datasets.xlsx')"
   ]
  },
  {
   "cell_type": "code",
   "execution_count": 3,
   "metadata": {},
   "outputs": [
    {
     "name": "stdout",
     "output_type": "stream",
     "text": [
      "<class 'pandas.core.frame.DataFrame'>\n",
      "RangeIndex: 898 entries, 0 to 897\n",
      "Data columns (total 35 columns):\n",
      " #   Column         Non-Null Count  Dtype  \n",
      "---  ------         --------------  -----  \n",
      " 0   AREA           898 non-null    int64  \n",
      " 1   PERIMETER      898 non-null    float64\n",
      " 2   MAJOR_AXIS     898 non-null    float64\n",
      " 3   MINOR_AXIS     898 non-null    float64\n",
      " 4   ECCENTRICITY   898 non-null    float64\n",
      " 5   EQDIASQ        898 non-null    float64\n",
      " 6   SOLIDITY       898 non-null    float64\n",
      " 7   CONVEX_AREA    898 non-null    int64  \n",
      " 8   EXTENT         898 non-null    float64\n",
      " 9   ASPECT_RATIO   898 non-null    float64\n",
      " 10  ROUNDNESS      898 non-null    float64\n",
      " 11  COMPACTNESS    898 non-null    float64\n",
      " 12  SHAPEFACTOR_1  898 non-null    float64\n",
      " 13  SHAPEFACTOR_2  898 non-null    float64\n",
      " 14  SHAPEFACTOR_3  898 non-null    float64\n",
      " 15  SHAPEFACTOR_4  898 non-null    float64\n",
      " 16  MeanRR         898 non-null    float64\n",
      " 17  MeanRG         898 non-null    float64\n",
      " 18  MeanRB         898 non-null    float64\n",
      " 19  StdDevRR       898 non-null    float64\n",
      " 20  StdDevRG       898 non-null    float64\n",
      " 21  StdDevRB       898 non-null    float64\n",
      " 22  SkewRR         898 non-null    float64\n",
      " 23  SkewRG         898 non-null    float64\n",
      " 24  SkewRB         898 non-null    float64\n",
      " 25  KurtosisRR     898 non-null    float64\n",
      " 26  KurtosisRG     898 non-null    float64\n",
      " 27  KurtosisRB     898 non-null    float64\n",
      " 28  EntropyRR      898 non-null    int64  \n",
      " 29  EntropyRG      898 non-null    int64  \n",
      " 30  EntropyRB      898 non-null    int64  \n",
      " 31  ALLdaub4RR     898 non-null    float64\n",
      " 32  ALLdaub4RG     898 non-null    float64\n",
      " 33  ALLdaub4RB     898 non-null    float64\n",
      " 34  Class          898 non-null    object \n",
      "dtypes: float64(29), int64(5), object(1)\n",
      "memory usage: 245.7+ KB\n"
     ]
    }
   ],
   "source": [
    "frutas.info()"
   ]
  },
  {
   "cell_type": "markdown",
   "metadata": {},
   "source": [
    "Podemos ver que não temos valores nulos e só a variavel class é um objeto, os outros ou são inteiros ou float."
   ]
  },
  {
   "cell_type": "code",
   "execution_count": 4,
   "metadata": {},
   "outputs": [
    {
     "data": {
      "text/html": [
       "<div>\n",
       "<style scoped>\n",
       "    .dataframe tbody tr th:only-of-type {\n",
       "        vertical-align: middle;\n",
       "    }\n",
       "\n",
       "    .dataframe tbody tr th {\n",
       "        vertical-align: top;\n",
       "    }\n",
       "\n",
       "    .dataframe thead th {\n",
       "        text-align: right;\n",
       "    }\n",
       "</style>\n",
       "<table border=\"1\" class=\"dataframe\">\n",
       "  <thead>\n",
       "    <tr style=\"text-align: right;\">\n",
       "      <th></th>\n",
       "      <th>AREA</th>\n",
       "      <th>PERIMETER</th>\n",
       "      <th>MAJOR_AXIS</th>\n",
       "      <th>MINOR_AXIS</th>\n",
       "      <th>ECCENTRICITY</th>\n",
       "      <th>EQDIASQ</th>\n",
       "      <th>SOLIDITY</th>\n",
       "      <th>CONVEX_AREA</th>\n",
       "      <th>EXTENT</th>\n",
       "      <th>ASPECT_RATIO</th>\n",
       "      <th>...</th>\n",
       "      <th>SkewRB</th>\n",
       "      <th>KurtosisRR</th>\n",
       "      <th>KurtosisRG</th>\n",
       "      <th>KurtosisRB</th>\n",
       "      <th>EntropyRR</th>\n",
       "      <th>EntropyRG</th>\n",
       "      <th>EntropyRB</th>\n",
       "      <th>ALLdaub4RR</th>\n",
       "      <th>ALLdaub4RG</th>\n",
       "      <th>ALLdaub4RB</th>\n",
       "    </tr>\n",
       "  </thead>\n",
       "  <tbody>\n",
       "    <tr>\n",
       "      <th>count</th>\n",
       "      <td>898.000000</td>\n",
       "      <td>898.000000</td>\n",
       "      <td>898.000000</td>\n",
       "      <td>898.000000</td>\n",
       "      <td>898.000000</td>\n",
       "      <td>898.000000</td>\n",
       "      <td>898.000000</td>\n",
       "      <td>898.000000</td>\n",
       "      <td>898.000000</td>\n",
       "      <td>898.000000</td>\n",
       "      <td>...</td>\n",
       "      <td>898.000000</td>\n",
       "      <td>898.000000</td>\n",
       "      <td>898.000000</td>\n",
       "      <td>898.000000</td>\n",
       "      <td>8.980000e+02</td>\n",
       "      <td>8.980000e+02</td>\n",
       "      <td>8.980000e+02</td>\n",
       "      <td>898.000000</td>\n",
       "      <td>898.000000</td>\n",
       "      <td>898.000000</td>\n",
       "    </tr>\n",
       "    <tr>\n",
       "      <th>mean</th>\n",
       "      <td>298295.207127</td>\n",
       "      <td>2057.660953</td>\n",
       "      <td>750.811994</td>\n",
       "      <td>495.872785</td>\n",
       "      <td>0.737468</td>\n",
       "      <td>604.577938</td>\n",
       "      <td>0.981840</td>\n",
       "      <td>303845.592428</td>\n",
       "      <td>0.736267</td>\n",
       "      <td>2.131102</td>\n",
       "      <td>...</td>\n",
       "      <td>0.250518</td>\n",
       "      <td>4.247845</td>\n",
       "      <td>5.110894</td>\n",
       "      <td>3.780928</td>\n",
       "      <td>-3.185021e+10</td>\n",
       "      <td>-2.901860e+10</td>\n",
       "      <td>-2.771876e+10</td>\n",
       "      <td>50.082888</td>\n",
       "      <td>48.805681</td>\n",
       "      <td>48.098393</td>\n",
       "    </tr>\n",
       "    <tr>\n",
       "      <th>std</th>\n",
       "      <td>107245.205337</td>\n",
       "      <td>410.012459</td>\n",
       "      <td>144.059326</td>\n",
       "      <td>114.268917</td>\n",
       "      <td>0.088727</td>\n",
       "      <td>119.593888</td>\n",
       "      <td>0.018157</td>\n",
       "      <td>108815.656947</td>\n",
       "      <td>0.053745</td>\n",
       "      <td>17.820778</td>\n",
       "      <td>...</td>\n",
       "      <td>0.632918</td>\n",
       "      <td>2.892357</td>\n",
       "      <td>3.745463</td>\n",
       "      <td>2.049831</td>\n",
       "      <td>2.037241e+10</td>\n",
       "      <td>1.712952e+10</td>\n",
       "      <td>1.484137e+10</td>\n",
       "      <td>16.063125</td>\n",
       "      <td>14.125911</td>\n",
       "      <td>10.813862</td>\n",
       "    </tr>\n",
       "    <tr>\n",
       "      <th>min</th>\n",
       "      <td>1987.000000</td>\n",
       "      <td>911.828000</td>\n",
       "      <td>336.722700</td>\n",
       "      <td>2.283200</td>\n",
       "      <td>0.344800</td>\n",
       "      <td>50.298400</td>\n",
       "      <td>0.836600</td>\n",
       "      <td>2257.000000</td>\n",
       "      <td>0.512300</td>\n",
       "      <td>1.065300</td>\n",
       "      <td>...</td>\n",
       "      <td>-1.029100</td>\n",
       "      <td>1.708200</td>\n",
       "      <td>1.607600</td>\n",
       "      <td>1.767200</td>\n",
       "      <td>-1.091224e+11</td>\n",
       "      <td>-9.261697e+10</td>\n",
       "      <td>-8.747177e+10</td>\n",
       "      <td>15.191100</td>\n",
       "      <td>20.524700</td>\n",
       "      <td>22.130000</td>\n",
       "    </tr>\n",
       "    <tr>\n",
       "      <th>25%</th>\n",
       "      <td>206948.000000</td>\n",
       "      <td>1726.091500</td>\n",
       "      <td>641.068650</td>\n",
       "      <td>404.684375</td>\n",
       "      <td>0.685625</td>\n",
       "      <td>513.317075</td>\n",
       "      <td>0.978825</td>\n",
       "      <td>210022.750000</td>\n",
       "      <td>0.705875</td>\n",
       "      <td>1.373725</td>\n",
       "      <td>...</td>\n",
       "      <td>-0.196950</td>\n",
       "      <td>2.536625</td>\n",
       "      <td>2.508850</td>\n",
       "      <td>2.577275</td>\n",
       "      <td>-4.429444e+10</td>\n",
       "      <td>-3.894638e+10</td>\n",
       "      <td>-3.564534e+10</td>\n",
       "      <td>38.224425</td>\n",
       "      <td>38.654525</td>\n",
       "      <td>39.250725</td>\n",
       "    </tr>\n",
       "    <tr>\n",
       "      <th>50%</th>\n",
       "      <td>319833.000000</td>\n",
       "      <td>2196.345450</td>\n",
       "      <td>791.363400</td>\n",
       "      <td>495.054850</td>\n",
       "      <td>0.754700</td>\n",
       "      <td>638.140950</td>\n",
       "      <td>0.987300</td>\n",
       "      <td>327207.000000</td>\n",
       "      <td>0.746950</td>\n",
       "      <td>1.524150</td>\n",
       "      <td>...</td>\n",
       "      <td>0.135550</td>\n",
       "      <td>3.069800</td>\n",
       "      <td>3.127800</td>\n",
       "      <td>3.080700</td>\n",
       "      <td>-2.826156e+10</td>\n",
       "      <td>-2.620990e+10</td>\n",
       "      <td>-2.392928e+10</td>\n",
       "      <td>53.841300</td>\n",
       "      <td>50.337800</td>\n",
       "      <td>49.614100</td>\n",
       "    </tr>\n",
       "    <tr>\n",
       "      <th>75%</th>\n",
       "      <td>382573.000000</td>\n",
       "      <td>2389.716575</td>\n",
       "      <td>858.633750</td>\n",
       "      <td>589.031700</td>\n",
       "      <td>0.802150</td>\n",
       "      <td>697.930525</td>\n",
       "      <td>0.991800</td>\n",
       "      <td>388804.000000</td>\n",
       "      <td>0.775850</td>\n",
       "      <td>1.674750</td>\n",
       "      <td>...</td>\n",
       "      <td>0.593950</td>\n",
       "      <td>4.449850</td>\n",
       "      <td>7.320400</td>\n",
       "      <td>4.283125</td>\n",
       "      <td>-1.460482e+10</td>\n",
       "      <td>-1.433105e+10</td>\n",
       "      <td>-1.660367e+10</td>\n",
       "      <td>63.063350</td>\n",
       "      <td>59.573600</td>\n",
       "      <td>56.666675</td>\n",
       "    </tr>\n",
       "    <tr>\n",
       "      <th>max</th>\n",
       "      <td>546063.000000</td>\n",
       "      <td>2811.997100</td>\n",
       "      <td>1222.723000</td>\n",
       "      <td>766.453600</td>\n",
       "      <td>1.000000</td>\n",
       "      <td>833.827900</td>\n",
       "      <td>0.997400</td>\n",
       "      <td>552598.000000</td>\n",
       "      <td>0.856200</td>\n",
       "      <td>535.525700</td>\n",
       "      <td>...</td>\n",
       "      <td>3.092300</td>\n",
       "      <td>26.171100</td>\n",
       "      <td>26.736700</td>\n",
       "      <td>32.249500</td>\n",
       "      <td>-1.627316e+08</td>\n",
       "      <td>-5.627727e+08</td>\n",
       "      <td>-4.370435e+08</td>\n",
       "      <td>79.828900</td>\n",
       "      <td>83.064900</td>\n",
       "      <td>74.104600</td>\n",
       "    </tr>\n",
       "  </tbody>\n",
       "</table>\n",
       "<p>8 rows × 34 columns</p>\n",
       "</div>"
      ],
      "text/plain": [
       "                AREA    PERIMETER   MAJOR_AXIS  MINOR_AXIS  ECCENTRICITY  \\\n",
       "count     898.000000   898.000000   898.000000  898.000000    898.000000   \n",
       "mean   298295.207127  2057.660953   750.811994  495.872785      0.737468   \n",
       "std    107245.205337   410.012459   144.059326  114.268917      0.088727   \n",
       "min      1987.000000   911.828000   336.722700    2.283200      0.344800   \n",
       "25%    206948.000000  1726.091500   641.068650  404.684375      0.685625   \n",
       "50%    319833.000000  2196.345450   791.363400  495.054850      0.754700   \n",
       "75%    382573.000000  2389.716575   858.633750  589.031700      0.802150   \n",
       "max    546063.000000  2811.997100  1222.723000  766.453600      1.000000   \n",
       "\n",
       "          EQDIASQ    SOLIDITY    CONVEX_AREA      EXTENT  ASPECT_RATIO  ...  \\\n",
       "count  898.000000  898.000000     898.000000  898.000000    898.000000  ...   \n",
       "mean   604.577938    0.981840  303845.592428    0.736267      2.131102  ...   \n",
       "std    119.593888    0.018157  108815.656947    0.053745     17.820778  ...   \n",
       "min     50.298400    0.836600    2257.000000    0.512300      1.065300  ...   \n",
       "25%    513.317075    0.978825  210022.750000    0.705875      1.373725  ...   \n",
       "50%    638.140950    0.987300  327207.000000    0.746950      1.524150  ...   \n",
       "75%    697.930525    0.991800  388804.000000    0.775850      1.674750  ...   \n",
       "max    833.827900    0.997400  552598.000000    0.856200    535.525700  ...   \n",
       "\n",
       "           SkewRB  KurtosisRR  KurtosisRG  KurtosisRB     EntropyRR  \\\n",
       "count  898.000000  898.000000  898.000000  898.000000  8.980000e+02   \n",
       "mean     0.250518    4.247845    5.110894    3.780928 -3.185021e+10   \n",
       "std      0.632918    2.892357    3.745463    2.049831  2.037241e+10   \n",
       "min     -1.029100    1.708200    1.607600    1.767200 -1.091224e+11   \n",
       "25%     -0.196950    2.536625    2.508850    2.577275 -4.429444e+10   \n",
       "50%      0.135550    3.069800    3.127800    3.080700 -2.826156e+10   \n",
       "75%      0.593950    4.449850    7.320400    4.283125 -1.460482e+10   \n",
       "max      3.092300   26.171100   26.736700   32.249500 -1.627316e+08   \n",
       "\n",
       "          EntropyRG     EntropyRB  ALLdaub4RR  ALLdaub4RG  ALLdaub4RB  \n",
       "count  8.980000e+02  8.980000e+02  898.000000  898.000000  898.000000  \n",
       "mean  -2.901860e+10 -2.771876e+10   50.082888   48.805681   48.098393  \n",
       "std    1.712952e+10  1.484137e+10   16.063125   14.125911   10.813862  \n",
       "min   -9.261697e+10 -8.747177e+10   15.191100   20.524700   22.130000  \n",
       "25%   -3.894638e+10 -3.564534e+10   38.224425   38.654525   39.250725  \n",
       "50%   -2.620990e+10 -2.392928e+10   53.841300   50.337800   49.614100  \n",
       "75%   -1.433105e+10 -1.660367e+10   63.063350   59.573600   56.666675  \n",
       "max   -5.627727e+08 -4.370435e+08   79.828900   83.064900   74.104600  \n",
       "\n",
       "[8 rows x 34 columns]"
      ]
     },
     "execution_count": 4,
     "metadata": {},
     "output_type": "execute_result"
    }
   ],
   "source": [
    "frutas.describe()"
   ]
  },
  {
   "cell_type": "markdown",
   "metadata": {},
   "source": [
    "Podemos ver que os valores entre as variaveis não tem o mesmo peso, então será necessário normalizar."
   ]
  },
  {
   "cell_type": "code",
   "execution_count": 5,
   "metadata": {},
   "outputs": [
    {
     "data": {
      "image/png": "[encoded data removed]",
      "text/plain": [
       "<Figure size 1440x1440 with 36 Axes>"
      ]
     },
     "metadata": {},
     "output_type": "display_data"
    }
   ],
   "source": [
    "sns.set(style='darkgrid',rc= {'figure.figsize':(20,20)})\n",
    "frutas.hist(color='purple');"
   ]
  },
  {
   "cell_type": "code",
   "execution_count": 6,
   "metadata": {},
   "outputs": [
    {
     "data": {
      "text/html": [
       "<div>\n",
       "<style scoped>\n",
       "    .dataframe tbody tr th:only-of-type {\n",
       "        vertical-align: middle;\n",
       "    }\n",
       "\n",
       "    .dataframe tbody tr th {\n",
       "        vertical-align: top;\n",
       "    }\n",
       "\n",
       "    .dataframe thead th {\n",
       "        text-align: right;\n",
       "    }\n",
       "</style>\n",
       "<table border=\"1\" class=\"dataframe\">\n",
       "  <thead>\n",
       "    <tr style=\"text-align: right;\">\n",
       "      <th></th>\n",
       "      <th>SOLIDITY</th>\n",
       "      <th>ASPECT_RATIO</th>\n",
       "      <th>SHAPEFACTOR_1</th>\n",
       "      <th>SHAPEFACTOR_4</th>\n",
       "    </tr>\n",
       "  </thead>\n",
       "  <tbody>\n",
       "    <tr>\n",
       "      <th>count</th>\n",
       "      <td>898.000000</td>\n",
       "      <td>898.000000</td>\n",
       "      <td>898.000000</td>\n",
       "      <td>898.000000</td>\n",
       "    </tr>\n",
       "    <tr>\n",
       "      <th>mean</th>\n",
       "      <td>0.981840</td>\n",
       "      <td>2.131102</td>\n",
       "      <td>0.003428</td>\n",
       "      <td>0.988680</td>\n",
       "    </tr>\n",
       "    <tr>\n",
       "      <th>std</th>\n",
       "      <td>0.018157</td>\n",
       "      <td>17.820778</td>\n",
       "      <td>0.020456</td>\n",
       "      <td>0.020473</td>\n",
       "    </tr>\n",
       "    <tr>\n",
       "      <th>min</th>\n",
       "      <td>0.836600</td>\n",
       "      <td>1.065300</td>\n",
       "      <td>0.001700</td>\n",
       "      <td>0.756800</td>\n",
       "    </tr>\n",
       "    <tr>\n",
       "      <th>25%</th>\n",
       "      <td>0.978825</td>\n",
       "      <td>1.373725</td>\n",
       "      <td>0.002200</td>\n",
       "      <td>0.989300</td>\n",
       "    </tr>\n",
       "    <tr>\n",
       "      <th>50%</th>\n",
       "      <td>0.987300</td>\n",
       "      <td>1.524150</td>\n",
       "      <td>0.002600</td>\n",
       "      <td>0.993600</td>\n",
       "    </tr>\n",
       "    <tr>\n",
       "      <th>75%</th>\n",
       "      <td>0.991800</td>\n",
       "      <td>1.674750</td>\n",
       "      <td>0.003200</td>\n",
       "      <td>0.996400</td>\n",
       "    </tr>\n",
       "    <tr>\n",
       "      <th>max</th>\n",
       "      <td>0.997400</td>\n",
       "      <td>535.525700</td>\n",
       "      <td>0.615400</td>\n",
       "      <td>0.999500</td>\n",
       "    </tr>\n",
       "  </tbody>\n",
       "</table>\n",
       "</div>"
      ],
      "text/plain": [
       "         SOLIDITY  ASPECT_RATIO  SHAPEFACTOR_1  SHAPEFACTOR_4\n",
       "count  898.000000    898.000000     898.000000     898.000000\n",
       "mean     0.981840      2.131102       0.003428       0.988680\n",
       "std      0.018157     17.820778       0.020456       0.020473\n",
       "min      0.836600      1.065300       0.001700       0.756800\n",
       "25%      0.978825      1.373725       0.002200       0.989300\n",
       "50%      0.987300      1.524150       0.002600       0.993600\n",
       "75%      0.991800      1.674750       0.003200       0.996400\n",
       "max      0.997400    535.525700       0.615400       0.999500"
      ]
     },
     "execution_count": 6,
     "metadata": {},
     "output_type": "execute_result"
    }
   ],
   "source": [
    "frutas[['SOLIDITY','ASPECT_RATIO','SHAPEFACTOR_1','SHAPEFACTOR_4']].describe()"
   ]
  },
  {
   "cell_type": "code",
   "execution_count": 7,
   "metadata": {},
   "outputs": [
    {
     "data": {
      "text/plain": [
       "Text(0, 0.5, 'Quantidade')"
      ]
     },
     "execution_count": 7,
     "metadata": {},
     "output_type": "execute_result"
    },
    {
     "data": {
      "image/png": "[encoded data removed]",
      "text/plain": [
       "<Figure size 720x360 with 1 Axes>"
      ]
     },
     "metadata": {},
     "output_type": "display_data"
    }
   ],
   "source": [
    "#Criando um gráfico de barras\n",
    "nomes_frutas = ['DOKOL','SAFAVI','ROTANA','DEGLET','SOGAY','IRAQI','BERHI']\n",
    "plt.figure(figsize=(10,5))\n",
    "plt.title('Quantidade de Frutas Presentes',fontsize=14)\n",
    "plt.bar(nomes_frutas,frutas['Class'].value_counts(),color='cyan')\n",
    "plt.xlabel('Frutas')\n",
    "plt.ylabel('Quantidade')"
   ]
  },
  {
   "cell_type": "markdown",
   "metadata": {},
   "source": [
    "Acredito que vai se ter que dividir os dados para que o mesmo não fique enviesado, separ um com as três frutas e o outro com o resto das frutas."
   ]
  },
  {
   "cell_type": "markdown",
   "metadata": {},
   "source": [
    "Fazer o estudo dos outliers"
   ]
  },
  {
   "cell_type": "code",
   "execution_count": 8,
   "metadata": {},
   "outputs": [
    {
     "data": {
      "text/plain": [
       "<AxesSubplot:xlabel='Class', ylabel='AREA'>"
      ]
     },
     "execution_count": 8,
     "metadata": {},
     "output_type": "execute_result"
    },
    {
     "data": {
      "image/png": "[encoded data removed]",
      "text/plain": [
       "<Figure size 1080x360 with 1 Axes>"
      ]
     },
     "metadata": {},
     "output_type": "display_data"
    }
   ],
   "source": [
    "plt.figure(figsize=(15,5))\n",
    "sns.boxplot(x='Class',y='AREA',data=frutas)"
   ]
  },
  {
   "cell_type": "code",
   "execution_count": 9,
   "metadata": {},
   "outputs": [
    {
     "data": {
      "text/plain": [
       "<AxesSubplot:xlabel='Class', ylabel='PERIMETER'>"
      ]
     },
     "execution_count": 9,
     "metadata": {},
     "output_type": "execute_result"
    },
    {
     "data": {
      "image/png": "[encoded data removed]",
      "text/plain": [
       "<Figure size 1080x360 with 1 Axes>"
      ]
     },
     "metadata": {},
     "output_type": "display_data"
    }
   ],
   "source": [
    "plt.figure(figsize=(15,5))\n",
    "sns.boxplot(x='Class',y='PERIMETER',data=frutas)"
   ]
  },
  {
   "cell_type": "code",
   "execution_count": 10,
   "metadata": {},
   "outputs": [
    {
     "data": {
      "text/plain": [
       "DOKOL     204\n",
       "SAFAVI    199\n",
       "ROTANA    166\n",
       "DEGLET     98\n",
       "SOGAY      94\n",
       "IRAQI      72\n",
       "BERHI      65\n",
       "Name: Class, dtype: int64"
      ]
     },
     "execution_count": 10,
     "metadata": {},
     "output_type": "execute_result"
    }
   ],
   "source": [
    "frutas['Class'].value_counts()"
   ]
  },
  {
   "cell_type": "code",
   "execution_count": 11,
   "metadata": {},
   "outputs": [
    {
     "name": "stderr",
     "output_type": "stream",
     "text": [
      "/tmp/ipykernel_9500/293768214.py:1: FutureWarning: The frame.append method is deprecated and will be removed from pandas in a future version. Use pandas.concat instead.\n",
      "  frutas_1 = frutas[frutas['Class']=='DOKOL'].append(frutas[frutas['Class']=='SAFAVI'].append(frutas[frutas['Class']=='ROTANA']))\n",
      "/tmp/ipykernel_9500/293768214.py:1: FutureWarning: The frame.append method is deprecated and will be removed from pandas in a future version. Use pandas.concat instead.\n",
      "  frutas_1 = frutas[frutas['Class']=='DOKOL'].append(frutas[frutas['Class']=='SAFAVI'].append(frutas[frutas['Class']=='ROTANA']))\n"
     ]
    }
   ],
   "source": [
    "frutas_1 = frutas[frutas['Class']=='DOKOL'].append(frutas[frutas['Class']=='SAFAVI'].append(frutas[frutas['Class']=='ROTANA']))"
   ]
  },
  {
   "cell_type": "code",
   "execution_count": 12,
   "metadata": {},
   "outputs": [],
   "source": [
    "frutas_1.reset_index(inplace=True)\n",
    "frutas_1.drop(['index'],axis=1,inplace=True)\n"
   ]
  },
  {
   "cell_type": "code",
   "execution_count": 13,
   "metadata": {},
   "outputs": [
    {
     "name": "stderr",
     "output_type": "stream",
     "text": [
      "/tmp/ipykernel_9500/184989641.py:2: FutureWarning: The frame.append method is deprecated and will be removed from pandas in a future version. Use pandas.concat instead.\n",
      "  frutas[frutas['Class']=='SOGAY'].append(frutas[frutas['Class']=='IRAQI'].append(frutas[frutas['Class']=='BERHI']))\n",
      "/tmp/ipykernel_9500/184989641.py:2: FutureWarning: The frame.append method is deprecated and will be removed from pandas in a future version. Use pandas.concat instead.\n",
      "  frutas[frutas['Class']=='SOGAY'].append(frutas[frutas['Class']=='IRAQI'].append(frutas[frutas['Class']=='BERHI']))\n",
      "/tmp/ipykernel_9500/184989641.py:1: FutureWarning: The frame.append method is deprecated and will be removed from pandas in a future version. Use pandas.concat instead.\n",
      "  frutas_2 = frutas[frutas['Class']=='DEGLET'].append(\n"
     ]
    }
   ],
   "source": [
    "frutas_2 = frutas[frutas['Class']=='DEGLET'].append(\n",
    "    frutas[frutas['Class']=='SOGAY'].append(frutas[frutas['Class']=='IRAQI'].append(frutas[frutas['Class']=='BERHI']))\n",
    ")"
   ]
  },
  {
   "cell_type": "code",
   "execution_count": 14,
   "metadata": {},
   "outputs": [],
   "source": [
    "frutas_2.reset_index(inplace=True)\n",
    "frutas_2.drop(['index'],axis=1,inplace=True)\n"
   ]
  },
  {
   "cell_type": "markdown",
   "metadata": {},
   "source": [
    "Agora vamos verificas quais dos modelos performa melhor: random forest, knn e naive bayes."
   ]
  },
  {
   "cell_type": "code",
   "execution_count": 15,
   "metadata": {},
   "outputs": [],
   "source": [
    "x = frutas_1.drop(['Class'],axis=1).values\n",
    "y = frutas_1.Class.values"
   ]
  },
  {
   "cell_type": "code",
   "execution_count": 16,
   "metadata": {},
   "outputs": [],
   "source": [
    "# Importando os módulos do sklearn\n",
    "from sklearn.metrics import confusion_matrix, classification_report\n",
    "from sklearn.preprocessing import StandardScaler\n",
    "from sklearn.model_selection import train_test_split \n",
    "from sklearn.ensemble import RandomForestClassifier\n",
    "from sklearn.naive_bayes import GaussianNB \n",
    "from sklearn.neighbors import KNeighborsClassifier"
   ]
  },
  {
   "cell_type": "markdown",
   "metadata": {},
   "source": [
    "Classificando por random forest"
   ]
  },
  {
   "cell_type": "code",
   "execution_count": 17,
   "metadata": {},
   "outputs": [],
   "source": [
    "x_std = StandardScaler().fit_transform(x)"
   ]
  },
  {
   "cell_type": "code",
   "execution_count": 18,
   "metadata": {},
   "outputs": [],
   "source": [
    "x_treino, x_teste, y_treino, y_teste = train_test_split(x_std,y,test_size=0.4,random_state=11)"
   ]
  },
  {
   "cell_type": "code",
   "execution_count": 19,
   "metadata": {},
   "outputs": [],
   "source": [
    "random_for = RandomForestClassifier()\n",
    "random_for.fit(x_treino,y_treino)\n",
    "y_pred = random_for.predict(x_teste)"
   ]
  },
  {
   "cell_type": "code",
   "execution_count": 20,
   "metadata": {},
   "outputs": [
    {
     "data": {
      "text/plain": [
       "array([[82,  0,  0],\n",
       "       [ 0, 61,  0],\n",
       "       [ 1,  0, 84]])"
      ]
     },
     "execution_count": 20,
     "metadata": {},
     "output_type": "execute_result"
    }
   ],
   "source": [
    "confusion_matrix(y_teste,y_pred)"
   ]
  },
  {
   "cell_type": "code",
   "execution_count": 21,
   "metadata": {},
   "outputs": [
    {
     "name": "stdout",
     "output_type": "stream",
     "text": [
      "              precision    recall  f1-score   support\n",
      "\n",
      "       DOKOL       0.99      1.00      0.99        82\n",
      "      ROTANA       1.00      1.00      1.00        61\n",
      "      SAFAVI       1.00      0.99      0.99        85\n",
      "\n",
      "    accuracy                           1.00       228\n",
      "   macro avg       1.00      1.00      1.00       228\n",
      "weighted avg       1.00      1.00      1.00       228\n",
      "\n"
     ]
    }
   ],
   "source": [
    "print(classification_report(y_teste,y_pred))"
   ]
  },
  {
   "cell_type": "code",
   "execution_count": 22,
   "metadata": {},
   "outputs": [],
   "source": [
    "naive_ba = GaussianNB()\n",
    "naive_ba.fit(x_treino,y_treino)\n",
    "y_pred_bay = naive_ba.predict(x_teste)"
   ]
  },
  {
   "cell_type": "code",
   "execution_count": 23,
   "metadata": {},
   "outputs": [
    {
     "data": {
      "text/plain": [
       "array([[82,  0,  0],\n",
       "       [ 0, 61,  0],\n",
       "       [ 0,  0, 85]])"
      ]
     },
     "execution_count": 23,
     "metadata": {},
     "output_type": "execute_result"
    }
   ],
   "source": [
    "confusion_matrix(y_teste,y_pred_bay)"
   ]
  },
  {
   "cell_type": "code",
   "execution_count": 24,
   "metadata": {},
   "outputs": [
    {
     "name": "stdout",
     "output_type": "stream",
     "text": [
      "              precision    recall  f1-score   support\n",
      "\n",
      "       DOKOL       1.00      1.00      1.00        82\n",
      "      ROTANA       1.00      1.00      1.00        61\n",
      "      SAFAVI       1.00      1.00      1.00        85\n",
      "\n",
      "    accuracy                           1.00       228\n",
      "   macro avg       1.00      1.00      1.00       228\n",
      "weighted avg       1.00      1.00      1.00       228\n",
      "\n"
     ]
    }
   ],
   "source": [
    "print(classification_report(y_teste,y_pred_bay))"
   ]
  },
  {
   "cell_type": "code",
   "execution_count": 25,
   "metadata": {},
   "outputs": [],
   "source": [
    "knn = KNeighborsClassifier()\n",
    "knn.fit(x_treino,y_treino)\n",
    "y_pred_knn = knn.predict(x_teste)"
   ]
  },
  {
   "cell_type": "code",
   "execution_count": 26,
   "metadata": {},
   "outputs": [
    {
     "data": {
      "text/plain": [
       "array([[81,  1,  0],\n",
       "       [ 0, 61,  0],\n",
       "       [ 0,  0, 85]])"
      ]
     },
     "execution_count": 26,
     "metadata": {},
     "output_type": "execute_result"
    }
   ],
   "source": [
    "confusion_matrix(y_teste,y_pred_knn)"
   ]
  },
  {
   "cell_type": "code",
   "execution_count": 27,
   "metadata": {},
   "outputs": [
    {
     "name": "stdout",
     "output_type": "stream",
     "text": [
      "              precision    recall  f1-score   support\n",
      "\n",
      "       DOKOL       1.00      0.99      0.99        82\n",
      "      ROTANA       0.98      1.00      0.99        61\n",
      "      SAFAVI       1.00      1.00      1.00        85\n",
      "\n",
      "    accuracy                           1.00       228\n",
      "   macro avg       0.99      1.00      1.00       228\n",
      "weighted avg       1.00      1.00      1.00       228\n",
      "\n"
     ]
    }
   ],
   "source": [
    "print(classification_report(y_teste,y_pred_knn))"
   ]
  },
  {
   "cell_type": "code",
   "execution_count": 28,
   "metadata": {},
   "outputs": [
    {
     "name": "stdout",
     "output_type": "stream",
     "text": [
      "Métricas do Modelo Usando Random Forest\n",
      "              precision    recall  f1-score   support\n",
      "\n",
      "       DOKOL       0.99      1.00      0.99        82\n",
      "      ROTANA       1.00      1.00      1.00        61\n",
      "      SAFAVI       1.00      0.99      0.99        85\n",
      "\n",
      "    accuracy                           1.00       228\n",
      "   macro avg       1.00      1.00      1.00       228\n",
      "weighted avg       1.00      1.00      1.00       228\n",
      "\n",
      "------------------------------\n",
      "Métricas do Modelo Usando Naive Bayes\n",
      "              precision    recall  f1-score   support\n",
      "\n",
      "       DOKOL       1.00      1.00      1.00        82\n",
      "      ROTANA       1.00      1.00      1.00        61\n",
      "      SAFAVI       1.00      1.00      1.00        85\n",
      "\n",
      "    accuracy                           1.00       228\n",
      "   macro avg       1.00      1.00      1.00       228\n",
      "weighted avg       1.00      1.00      1.00       228\n",
      "\n",
      "------------------------------\n",
      "Métricas do Modelo Usando KNN\n",
      "              precision    recall  f1-score   support\n",
      "\n",
      "       DOKOL       1.00      0.99      0.99        82\n",
      "      ROTANA       0.98      1.00      0.99        61\n",
      "      SAFAVI       1.00      1.00      1.00        85\n",
      "\n",
      "    accuracy                           1.00       228\n",
      "   macro avg       0.99      1.00      1.00       228\n",
      "weighted avg       1.00      1.00      1.00       228\n",
      "\n"
     ]
    }
   ],
   "source": [
    "print('Métricas do Modelo Usando Random Forest')\n",
    "print(classification_report(y_teste,y_pred))\n",
    "print('-'*30)\n",
    "print('Métricas do Modelo Usando Naive Bayes')\n",
    "print(classification_report(y_teste,y_pred_bay))\n",
    "print('-'*30)\n",
    "print('Métricas do Modelo Usando KNN')\n",
    "print(classification_report(y_teste,y_pred_knn))"
   ]
  },
  {
   "cell_type": "markdown",
   "metadata": {},
   "source": [
    "Olhando para o dataframe fruta 2"
   ]
  },
  {
   "cell_type": "code",
   "execution_count": 29,
   "metadata": {},
   "outputs": [
    {
     "data": {
      "text/html": [
       "<div>\n",
       "<style scoped>\n",
       "    .dataframe tbody tr th:only-of-type {\n",
       "        vertical-align: middle;\n",
       "    }\n",
       "\n",
       "    .dataframe tbody tr th {\n",
       "        vertical-align: top;\n",
       "    }\n",
       "\n",
       "    .dataframe thead th {\n",
       "        text-align: right;\n",
       "    }\n",
       "</style>\n",
       "<table border=\"1\" class=\"dataframe\">\n",
       "  <thead>\n",
       "    <tr style=\"text-align: right;\">\n",
       "      <th></th>\n",
       "      <th>AREA</th>\n",
       "      <th>PERIMETER</th>\n",
       "      <th>MAJOR_AXIS</th>\n",
       "      <th>MINOR_AXIS</th>\n",
       "      <th>ECCENTRICITY</th>\n",
       "      <th>EQDIASQ</th>\n",
       "      <th>SOLIDITY</th>\n",
       "      <th>CONVEX_AREA</th>\n",
       "      <th>EXTENT</th>\n",
       "      <th>ASPECT_RATIO</th>\n",
       "      <th>...</th>\n",
       "      <th>KurtosisRR</th>\n",
       "      <th>KurtosisRG</th>\n",
       "      <th>KurtosisRB</th>\n",
       "      <th>EntropyRR</th>\n",
       "      <th>EntropyRG</th>\n",
       "      <th>EntropyRB</th>\n",
       "      <th>ALLdaub4RR</th>\n",
       "      <th>ALLdaub4RG</th>\n",
       "      <th>ALLdaub4RB</th>\n",
       "      <th>Class</th>\n",
       "    </tr>\n",
       "  </thead>\n",
       "  <tbody>\n",
       "    <tr>\n",
       "      <th>0</th>\n",
       "      <td>230122</td>\n",
       "      <td>1804.3540</td>\n",
       "      <td>649.0608</td>\n",
       "      <td>454.5320</td>\n",
       "      <td>0.7139</td>\n",
       "      <td>541.2952</td>\n",
       "      <td>0.9883</td>\n",
       "      <td>232846</td>\n",
       "      <td>0.8192</td>\n",
       "      <td>1.4280</td>\n",
       "      <td>...</td>\n",
       "      <td>3.8148</td>\n",
       "      <td>2.9127</td>\n",
       "      <td>3.3667</td>\n",
       "      <td>-41959481344</td>\n",
       "      <td>-37230223360</td>\n",
       "      <td>-36367020032</td>\n",
       "      <td>66.1163</td>\n",
       "      <td>63.2356</td>\n",
       "      <td>62.4892</td>\n",
       "      <td>DEGLET</td>\n",
       "    </tr>\n",
       "    <tr>\n",
       "      <th>1</th>\n",
       "      <td>231946</td>\n",
       "      <td>1800.8101</td>\n",
       "      <td>678.9835</td>\n",
       "      <td>436.4881</td>\n",
       "      <td>0.7660</td>\n",
       "      <td>543.4361</td>\n",
       "      <td>0.9922</td>\n",
       "      <td>233763</td>\n",
       "      <td>0.7924</td>\n",
       "      <td>1.5556</td>\n",
       "      <td>...</td>\n",
       "      <td>3.1537</td>\n",
       "      <td>3.5782</td>\n",
       "      <td>3.2341</td>\n",
       "      <td>-25391267840</td>\n",
       "      <td>-23603490816</td>\n",
       "      <td>-28687542272</td>\n",
       "      <td>52.4342</td>\n",
       "      <td>51.0893</td>\n",
       "      <td>55.8778</td>\n",
       "      <td>DEGLET</td>\n",
       "    </tr>\n",
       "    <tr>\n",
       "      <th>2</th>\n",
       "      <td>218006</td>\n",
       "      <td>1754.2820</td>\n",
       "      <td>671.6726</td>\n",
       "      <td>414.5850</td>\n",
       "      <td>0.7868</td>\n",
       "      <td>526.8528</td>\n",
       "      <td>0.9930</td>\n",
       "      <td>219532</td>\n",
       "      <td>0.8089</td>\n",
       "      <td>1.6201</td>\n",
       "      <td>...</td>\n",
       "      <td>2.0128</td>\n",
       "      <td>2.3344</td>\n",
       "      <td>4.0136</td>\n",
       "      <td>-27197134848</td>\n",
       "      <td>-21465534464</td>\n",
       "      <td>-22162524160</td>\n",
       "      <td>54.3825</td>\n",
       "      <td>49.5349</td>\n",
       "      <td>51.3752</td>\n",
       "      <td>DEGLET</td>\n",
       "    </tr>\n",
       "    <tr>\n",
       "      <th>3</th>\n",
       "      <td>272074</td>\n",
       "      <td>2031.7810</td>\n",
       "      <td>778.5798</td>\n",
       "      <td>446.9384</td>\n",
       "      <td>0.8188</td>\n",
       "      <td>588.5706</td>\n",
       "      <td>0.9823</td>\n",
       "      <td>276985</td>\n",
       "      <td>0.8072</td>\n",
       "      <td>1.7420</td>\n",
       "      <td>...</td>\n",
       "      <td>3.0403</td>\n",
       "      <td>2.5393</td>\n",
       "      <td>2.5903</td>\n",
       "      <td>-46827319296</td>\n",
       "      <td>-45142360064</td>\n",
       "      <td>-33304205312</td>\n",
       "      <td>64.1701</td>\n",
       "      <td>62.9819</td>\n",
       "      <td>54.2980</td>\n",
       "      <td>DEGLET</td>\n",
       "    </tr>\n",
       "    <tr>\n",
       "      <th>4</th>\n",
       "      <td>222790</td>\n",
       "      <td>1766.3240</td>\n",
       "      <td>651.6551</td>\n",
       "      <td>436.6493</td>\n",
       "      <td>0.7423</td>\n",
       "      <td>532.6021</td>\n",
       "      <td>0.9932</td>\n",
       "      <td>224312</td>\n",
       "      <td>0.7893</td>\n",
       "      <td>1.4924</td>\n",
       "      <td>...</td>\n",
       "      <td>2.2621</td>\n",
       "      <td>2.1012</td>\n",
       "      <td>2.3364</td>\n",
       "      <td>-35503251456</td>\n",
       "      <td>-32167600128</td>\n",
       "      <td>-28105680896</td>\n",
       "      <td>60.8351</td>\n",
       "      <td>58.4294</td>\n",
       "      <td>55.3596</td>\n",
       "      <td>DEGLET</td>\n",
       "    </tr>\n",
       "  </tbody>\n",
       "</table>\n",
       "<p>5 rows × 35 columns</p>\n",
       "</div>"
      ],
      "text/plain": [
       "     AREA  PERIMETER  MAJOR_AXIS  MINOR_AXIS  ECCENTRICITY   EQDIASQ  \\\n",
       "0  230122  1804.3540    649.0608    454.5320        0.7139  541.2952   \n",
       "1  231946  1800.8101    678.9835    436.4881        0.7660  543.4361   \n",
       "2  218006  1754.2820    671.6726    414.5850        0.7868  526.8528   \n",
       "3  272074  2031.7810    778.5798    446.9384        0.8188  588.5706   \n",
       "4  222790  1766.3240    651.6551    436.6493        0.7423  532.6021   \n",
       "\n",
       "   SOLIDITY  CONVEX_AREA  EXTENT  ASPECT_RATIO  ...  KurtosisRR  KurtosisRG  \\\n",
       "0    0.9883       232846  0.8192        1.4280  ...      3.8148      2.9127   \n",
       "1    0.9922       233763  0.7924        1.5556  ...      3.1537      3.5782   \n",
       "2    0.9930       219532  0.8089        1.6201  ...      2.0128      2.3344   \n",
       "3    0.9823       276985  0.8072        1.7420  ...      3.0403      2.5393   \n",
       "4    0.9932       224312  0.7893        1.4924  ...      2.2621      2.1012   \n",
       "\n",
       "   KurtosisRB    EntropyRR    EntropyRG    EntropyRB  ALLdaub4RR  ALLdaub4RG  \\\n",
       "0      3.3667 -41959481344 -37230223360 -36367020032     66.1163     63.2356   \n",
       "1      3.2341 -25391267840 -23603490816 -28687542272     52.4342     51.0893   \n",
       "2      4.0136 -27197134848 -21465534464 -22162524160     54.3825     49.5349   \n",
       "3      2.5903 -46827319296 -45142360064 -33304205312     64.1701     62.9819   \n",
       "4      2.3364 -35503251456 -32167600128 -28105680896     60.8351     58.4294   \n",
       "\n",
       "   ALLdaub4RB   Class  \n",
       "0     62.4892  DEGLET  \n",
       "1     55.8778  DEGLET  \n",
       "2     51.3752  DEGLET  \n",
       "3     54.2980  DEGLET  \n",
       "4     55.3596  DEGLET  \n",
       "\n",
       "[5 rows x 35 columns]"
      ]
     },
     "execution_count": 29,
     "metadata": {},
     "output_type": "execute_result"
    }
   ],
   "source": [
    "frutas_2.head()"
   ]
  },
  {
   "cell_type": "code",
   "execution_count": 32,
   "metadata": {},
   "outputs": [
    {
     "data": {
      "text/plain": [
       "(329, 35)"
      ]
     },
     "execution_count": 32,
     "metadata": {},
     "output_type": "execute_result"
    }
   ],
   "source": [
    "frutas_2.shape"
   ]
  },
  {
   "cell_type": "code",
   "execution_count": 30,
   "metadata": {},
   "outputs": [],
   "source": [
    "x2 = frutas_2.drop(['Class'],axis=1).values\n",
    "y2 = frutas_2.Class.values"
   ]
  },
  {
   "cell_type": "code",
   "execution_count": 31,
   "metadata": {},
   "outputs": [],
   "source": [
    "x2_std = StandardScaler().fit_transform(x2)"
   ]
  },
  {
   "cell_type": "code",
   "execution_count": 33,
   "metadata": {},
   "outputs": [],
   "source": [
    "x2_treino, x2_teste, y2_treino, y2_teste = train_test_split(x2_std,y2,test_size=0.3,random_state=10)"
   ]
  },
  {
   "cell_type": "code",
   "execution_count": 34,
   "metadata": {},
   "outputs": [],
   "source": [
    "random_for2 = RandomForestClassifier()\n",
    "naive_ba2 = GaussianNB()\n",
    "knn2 = KNeighborsClassifier()"
   ]
  },
  {
   "cell_type": "code",
   "execution_count": 35,
   "metadata": {},
   "outputs": [
    {
     "data": {
      "text/plain": [
       "KNeighborsClassifier()"
      ]
     },
     "execution_count": 35,
     "metadata": {},
     "output_type": "execute_result"
    }
   ],
   "source": [
    "random_for2.fit(x2_treino,y2_treino)\n",
    "naive_ba2.fit(x2_treino,y2_treino)\n",
    "knn2.fit(x2_treino,y2_treino)"
   ]
  },
  {
   "cell_type": "code",
   "execution_count": 36,
   "metadata": {},
   "outputs": [],
   "source": [
    "y2_ra_pre = random_for2.predict(x2_teste)\n",
    "y2_na_pre = naive_ba2.predict(x2_teste)\n",
    "y2_knn_pre = knn2.predict(x2_teste)"
   ]
  },
  {
   "cell_type": "code",
   "execution_count": 38,
   "metadata": {},
   "outputs": [
    {
     "name": "stdout",
     "output_type": "stream",
     "text": [
      "Matriz de Confusão rando forest\n",
      "[[11  0  4  0]\n",
      " [ 0 20  0  6]\n",
      " [ 1  0 24  0]\n",
      " [ 0  4  0 29]]\n",
      "------------------------------\n",
      "Matriz de Confusão naive bayes\n",
      "[[11  0  4  0]\n",
      " [ 0 20  0  6]\n",
      " [ 1  0 24  0]\n",
      " [ 0  4  0 29]]\n",
      "------------------------------\n",
      "Matriz de Confusão knn\n",
      "[[12  0  3  0]\n",
      " [ 0 17  0  9]\n",
      " [ 2  0 23  0]\n",
      " [ 0  6  0 27]]\n"
     ]
    }
   ],
   "source": [
    "print('Matriz de Confusão rando forest')\n",
    "print(confusion_matrix(y2_teste,y2_ra_pre))\n",
    "print('-'*30)\n",
    "\n",
    "print('Matriz de Confusão naive bayes')\n",
    "print(confusion_matrix(y2_teste,y2_na_pre))\n",
    "print('-'*30)\n",
    "\n",
    "print('Matriz de Confusão knn')\n",
    "print(confusion_matrix(y2_teste,y2_knn_pre))"
   ]
  },
  {
   "cell_type": "code",
   "execution_count": 37,
   "metadata": {},
   "outputs": [
    {
     "name": "stdout",
     "output_type": "stream",
     "text": [
      "Métricas do Modelo Usando Random Forest\n",
      "              precision    recall  f1-score   support\n",
      "\n",
      "       BERHI       0.92      0.73      0.81        15\n",
      "      DEGLET       0.83      0.77      0.80        26\n",
      "       IRAQI       0.86      0.96      0.91        25\n",
      "       SOGAY       0.83      0.88      0.85        33\n",
      "\n",
      "    accuracy                           0.85        99\n",
      "   macro avg       0.86      0.84      0.84        99\n",
      "weighted avg       0.85      0.85      0.85        99\n",
      "\n",
      "------------------------------\n",
      "Métricas do Modelo Usando Naive Bayes\n",
      "              precision    recall  f1-score   support\n",
      "\n",
      "       BERHI       0.92      0.73      0.81        15\n",
      "      DEGLET       0.83      0.77      0.80        26\n",
      "       IRAQI       0.86      0.96      0.91        25\n",
      "       SOGAY       0.83      0.88      0.85        33\n",
      "\n",
      "    accuracy                           0.85        99\n",
      "   macro avg       0.86      0.84      0.84        99\n",
      "weighted avg       0.85      0.85      0.85        99\n",
      "\n",
      "------------------------------\n",
      "Métricas do Modelo Usando KNN\n",
      "              precision    recall  f1-score   support\n",
      "\n",
      "       BERHI       0.86      0.80      0.83        15\n",
      "      DEGLET       0.74      0.65      0.69        26\n",
      "       IRAQI       0.88      0.92      0.90        25\n",
      "       SOGAY       0.75      0.82      0.78        33\n",
      "\n",
      "    accuracy                           0.80        99\n",
      "   macro avg       0.81      0.80      0.80        99\n",
      "weighted avg       0.80      0.80      0.80        99\n",
      "\n"
     ]
    }
   ],
   "source": [
    "print('Métricas do Modelo Usando Random Forest')\n",
    "print(classification_report(y2_teste,y2_ra_pre))\n",
    "print('-'*30)\n",
    "print('Métricas do Modelo Usando Naive Bayes')\n",
    "print(classification_report(y2_teste,y2_na_pre))\n",
    "print('-'*30)\n",
    "print('Métricas do Modelo Usando KNN')\n",
    "print(classification_report(y2_teste,y2_knn_pre))"
   ]
  },
  {
   "cell_type": "markdown",
   "metadata": {},
   "source": [
    "Observando a matriz de confusão e as metricas nesse caso pode o que perfomou bem e que poderia ser utilizado é ou o random foret ou o naive bayes já que acertou os mesmo, ma poderia ser utilizada o naive bayes já que o processamento pra se fazer o random forest é maior."
   ]
  }
 ],
 "metadata": {
  "interpreter": {
   "hash": "47f325e4dc201893daa5bfc21d6e0550aa455e6eede69b1a58a5614a1365b691"
  },
  "kernelspec": {
   "display_name": "Python 3.9.7 ('base')",
   "language": "python",
   "name": "python3"
  },
  "language_info": {
   "codemirror_mode": {
    "name": "ipython",
    "version": 3
   },
   "file_extension": ".py",
   "mimetype": "text/x-python",
   "name": "python",
   "nbconvert_exporter": "python",
   "pygments_lexer": "ipython3",
   "version": "3.9.7"
  },
  "orig_nbformat": 4
 },
 "nbformat": 4,
 "nbformat_minor": 2
}
